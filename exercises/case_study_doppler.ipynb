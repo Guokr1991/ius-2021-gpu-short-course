{
 "cells": [
  {
   "cell_type": "markdown",
   "id": "b04a3212-8ed8-41f2-aebe-e0f973b9c9f9",
   "metadata": {},
   "source": [
    "# Introduction"
   ]
  },
  {
   "cell_type": "code",
   "execution_count": null,
   "id": "3e49cf8a-d574-4133-abe7-dd4b711357ad",
   "metadata": {},
   "outputs": [],
   "source": []
  },
  {
   "cell_type": "markdown",
   "id": "182ac90e-23d2-49d6-bf9d-647e78cd0dc2",
   "metadata": {},
   "source": [
    "## A very brief introduction to Color Doppler \n",
    "\n",
    "Color doppler is a medical imaging modality for blood flow imaging.  \n",
    "It (suprasingly) bases on the Doppler effect.  \n",
    "Doppler effect is a shift of a received signal frequency, when the wave source is moving relatively to the receiver.  \n",
    "The received frequency is given by following formula:\n",
    "\n",
    "$\n",
    "f = \\left( \\frac{c \\pm v_r}{c \\pm v_s} \\right) f_0 \n",
    "$\n",
    "\n",
    "where \n",
    "* f - is the frequency of the received signal,\n",
    "* $f_0$ - is the frequency of the signal transmitted by the source,\n",
    "* c - is the speed of the wave in the medium,\n",
    "* $v_r$ - is the speed of the receiver relative to medium,\n",
    "* $v_s$ - is the speed of the source relative to medium.\n",
    "\n",
    "In the case of color doppler we assume as follows:\n",
    "* $v_r = 0$ - the probe does not move relative to the soft tissue, \n",
    "* $c = 1540[m/s]$ - this is average speed of sound in the soft tissue,\n",
    "* $v_s < 2/s]$ - speed of the blood relative to soft tissue (i.e. $c>>v_s$). (CHECK IT!!!).\n",
    "\n",
    "When $c>>v_s$ the frequency shift is given by the following:\n",
    "\n",
    "$\n",
    "\\Delta{}f = \\frac{v_s}{c} f_0\n",
    "$\n",
    "\n",
    "where $\\Delta{}f = f - f_0$ is a frequency shift, or 'doppler frequency'.  \n",
    "\n",
    "\n",
    "\n",
    "\n",
    "When the medical probe transmits the ultrasound pulse, and it is scattered on moving blood (i.e. on blood cells), the received echoes changes in phase.   \n",
    "In practice the probe transmits a series of (quite long) ultrasound pulses, receiving echoes after each transmit.  \n",
    "The series consists of $N$ transmit/receive (TR) events, and the higher $N$, the higher sensitivity, but lower doppler framerate (rotten compromise as usual).  \n",
    "Typically $N$ could be in the range of $8-16$ for classical methods and $32-256$ for synthetic aperture methods, however there are no strict rules.  \n",
    "The TR events in the series are repeated with constant Pulse Repetition Frequency (PRF).  \n",
    "Thus the time between TR events - Pulse Repetition Interval (PRI) is equal $\\frac{1}{PRF}$.  \n",
    "The received signals are IQ demodulated, and next the phase is estimated for each sample.  \n",
    "Then, for each sample the phase changes $\\Delta{\\theta}$ from TR to TR are calculated. Sometimes it is refered as phase changes in 'slow time'.  \n",
    "The average doppler frequency can be calculated from the formula\n",
    "\n",
    "$\n",
    "\\Delta{f} = \\frac{1}{N-1} \\sum_{n=1}^{N-1} \\frac{\\Delta{\\theta}_{n}}{PRI}\n",
    "$\n",
    "\n",
    "\n",
    "Then, we can use the following formula to estimate speed of the blood flow.  \n",
    "\n",
    "$\n",
    "v_s = \\frac{\\Delta{}f}{f_0} \\frac{c}{2\\cos{\\alpha}}\n",
    "$\n",
    "\n",
    "where $\\alpha$ is the angle between the direction of the flow and the direction of the ultrasound pulse propagation.\n",
    "\n",
    "\n"
   ]
  },
  {
   "cell_type": "code",
   "execution_count": null,
   "id": "031ec92c-42f9-40d4-bbf7-737afce36a56",
   "metadata": {},
   "outputs": [],
   "source": [
    "\n"
   ]
  },
  {
   "cell_type": "markdown",
   "id": "9f473063-364b-44f5-bbfa-57911892111d",
   "metadata": {},
   "source": [
    "## The complete processing for Color Doppler using CUDA"
   ]
  },
  {
   "cell_type": "code",
   "execution_count": null,
   "id": "9e7e6e0c-80fd-4e51-9962-3ebbd57f8d9c",
   "metadata": {},
   "outputs": [],
   "source": []
  },
  {
   "cell_type": "markdown",
   "id": "081a6abd-ad32-4453-be76-860bb82bdf4f",
   "metadata": {},
   "source": [
    "## A very brief introduction to Vector Doppler "
   ]
  },
  {
   "cell_type": "code",
   "execution_count": null,
   "id": "5b3ecfa5-dde6-4c82-bd11-ae782445adf6",
   "metadata": {},
   "outputs": [],
   "source": []
  },
  {
   "cell_type": "markdown",
   "id": "80cbbc23-321d-4a59-bbee-d634ab0f15c2",
   "metadata": {},
   "source": [
    "## The complete processing for Vector Doppler using CUDA"
   ]
  },
  {
   "cell_type": "code",
   "execution_count": null,
   "id": "eae48e86-21d5-4e4a-a1fb-75f5faef0ca3",
   "metadata": {},
   "outputs": [],
   "source": []
  },
  {
   "cell_type": "markdown",
   "id": "545ad21b-2fef-4234-aa20-87993f16554c",
   "metadata": {},
   "source": [
    "## Doing B-mode and Color/Vector processing in the same time - a single GPU (multiple streams) example"
   ]
  },
  {
   "cell_type": "code",
   "execution_count": null,
   "id": "d69fa245-1f27-4d91-830b-672513622801",
   "metadata": {},
   "outputs": [],
   "source": []
  }
 ],
 "metadata": {
  "kernelspec": {
   "display_name": "Python 3",
   "language": "python",
   "name": "python3"
  },
  "language_info": {
   "codemirror_mode": {
    "name": "ipython",
    "version": 3
   },
   "file_extension": ".py",
   "mimetype": "text/x-python",
   "name": "python",
   "nbconvert_exporter": "python",
   "pygments_lexer": "ipython3",
   "version": "3.8.8"
  }
 },
 "nbformat": 4,
 "nbformat_minor": 5
}
