{
 "cells": [
  {
   "cell_type": "markdown",
   "id": "182ac90e-23d2-49d6-bf9d-647e78cd0dc2",
   "metadata": {},
   "source": [
    "## A (very) brief introduction to Color Doppler \n",
    "\n",
    "Color doppler is a medical imaging modality for blood flow imaging.  \n",
    "It (suprasingly) bases on the Doppler effect.  \n",
    "Doppler effect is a shift of a received signal frequency, when the wave source is moving relatively to the receiver.  \n",
    "In medicine 'sources' (i.e. moving tissue, specifically blood) do not emits acoustic waves, but are 'iluminated' by a ultrasound pulses produced by a probe.  \n",
    "It can be shown [Evans2000] that the shift in the received frequency is given by following equation:\n",
    "\n",
    "$\n",
    "f_d = f_t - f_r = \\frac{2f_tv\\cos{\\alpha}}{c}\n",
    "$\n",
    "\n",
    "where\n",
    "* $f_d$ - frequency shift, or doppler frequency,\n",
    "* $f_t$ - transmitted frequency, \n",
    "* $f_r$ - received frequency, \n",
    "* $v$ - speed of the blood,\n",
    "* $\\alpha$ - the angle between the ultrasound beam and the direction of motion of the blood,\n",
    "* $c$ - speed of sound in the medium. It is usually assumed that in soft tissue $c = 1540 [m/s]$.\n",
    "\n",
    "\n",
    "\n",
    "<!-- When the medical probe transmits the ultrasound pulse, and it is scattered on moving blood (i.e. on blood cells), the received echoes changes in phase.    -->\n",
    "In classical approach the probe transmits a series of (quite long) ultrasound pulses, receiving echoes after each transmit.  \n",
    "The series consists of $N$ transmit/receive (TR) events, and the higher $N$, the higher sensitivity, but lower doppler framerate.  \n",
    "Typically $N$ could be in the range of $8-16$ for classical methods and $32-256$ for synthetic aperture methods, however there are no strict rules.  \n",
    "The TR events in the series are repeated with constant Pulse Repetition Frequency (PRF).  \n",
    "Thus the time between TR events - Pulse Repetition Interval (PRI) is equal $\\frac{1}{PRF}$.  \n",
    "The received signals are IQ demodulated. The $f_d$ can be estimated from IQ signal by means of autocorrelation esitmator:  \n",
    "\n",
    "$\n",
    "\\overline{f_d} = \\frac{1}{2\\pi{}PRI} \n",
    "    \\tan^{-1}{\\left\\{ \n",
    "        \\frac{\\sum^{N}_{i=1}{Q(i)I(i-1) - I(i)Q(i-1)}}\n",
    "             {\\sum^{N}_{i=1}{I(i)I(i-1) + Q(i)Q(i-1)}}\n",
    "    \\right\\}}\n",
    "$\n",
    "\n",
    "\n",
    "\n",
    "<!-- , and next the phase is estimated for each sample.  \n",
    "Then, for each sample the phase changes $\\Delta{\\theta}$ from TR to TR are calculated. Sometimes it is refered as phase changes in 'slow time'.  \n",
    "The doppler frequency (averaged over time) can be calculated from the formula\n",
    "\n",
    "$\n",
    "\\overline{f_d} = \\frac{1}{N-1} \\sum_{n=1}^{N-1} \\frac{\\Delta{\\theta}_{n}}{PRI}\n",
    "$\n",
    "\n",
    " -->\n",
    "Then, we can use the following formula to estimate (average) speed of the blood flow.  \n",
    "\n",
    "$\n",
    "v_s = \\frac{\\overline{f_d}}{f_t} \\frac{c}{2\\cos{\\alpha}}\n",
    "$\n",
    "\n",
    "\n",
    "\n"
   ]
  },
  {
   "cell_type": "markdown",
   "id": "9f473063-364b-44f5-bbfa-57911892111d",
   "metadata": {},
   "source": [
    "## The complete processing for Color Doppler using CUDA"
   ]
  },
  {
   "cell_type": "code",
   "execution_count": 1,
   "id": "eab8649f-387e-4b52-9b94-b6aba838e6c9",
   "metadata": {},
   "outputs": [],
   "source": [
    "# import numpy as np\n",
    "import cupy as cp"
   ]
  },
  {
   "cell_type": "markdown",
   "id": "132a4512-692b-48db-8131-8cfc3e5da8a8",
   "metadata": {},
   "source": [
    "Kernel definitions"
   ]
  },
  {
   "cell_type": "code",
   "execution_count": 2,
   "id": "20ea72cf-282f-46f5-ac34-ea6cb899f709",
   "metadata": {},
   "outputs": [],
   "source": [
    "source = r'''\n",
    "extern \"C\" __global__\n",
    "void test_sum(const float* x1, \n",
    "          const float* x2, \n",
    "          float* y) \n",
    "{\n",
    "     int i = blockDim.x * blockIdx.x + threadIdx.x;\n",
    "     y[i] = x1[i] + x2[i];\n",
    "}\n",
    "'''\n",
    "test_kernel = cp.RawKernel(source, 'test_sum')\n"
   ]
  },
  {
   "cell_type": "code",
   "execution_count": 21,
   "id": "99f89253-9d55-440e-8384-16938260f546",
   "metadata": {},
   "outputs": [],
   "source": [
    "source = r\"\"\"\n",
    "extern \"C\" __global__ \n",
    "void dopplerColor(float* color, \n",
    "                  float* power, \n",
    "                  float2 const* iqImg, \n",
    "                  int const nZPix, \n",
    "                  int const nXPix, \n",
    "                  int const nRep)\n",
    "{\n",
    "    int z = blockIdx.x * blockDim.x + threadIdx.x;\n",
    "    int x = blockIdx.y * blockDim.y + threadIdx.y;\n",
    "    \n",
    "    float2 iqPixCurr, iqPixPrev;\n",
    "    float auxPower;\n",
    "    float2 auxColor = {0.f, 0.f};\n",
    "    \n",
    "    if (z>=nZPix || x>=nXPix) {\n",
    "        return;\n",
    "    }\n",
    "    \n",
    "    /* Color & Power estimation */\n",
    "    iqPixCurr = iqImg[z + x * nZPix];\n",
    "    auxPower = iqPixCurr.x * iqPixCurr.x + iqPixCurr.y * iqPixCurr.y;\n",
    "    for (int iRep=1; iRep<nRep; iRep++) {\n",
    "        iqPixPrev = iqPixCurr;\n",
    "        iqPixCurr = iqImg[z + x * nZPix + iRep * nZPix * nXPix];\n",
    "        \n",
    "        auxPower += iqPixCurr.x * iqPixCurr.x + iqPixCurr.y * iqPixCurr.y;\n",
    "        auxColor.x += iqPixCurr.x * iqPixPrev.x + iqPixCurr.y * iqPixPrev.y;\n",
    "        auxColor.y += iqPixCurr.y * iqPixPrev.x - iqPixCurr.x * iqPixPrev.y;\n",
    "    }\n",
    "    //color[z + x*nZPix] = atan2f(auxColor.y, auxColor.x);\n",
    "    color[z + x*nZPix] = 10;\n",
    "    power[z + x*nZPix] = auxPower / nRep;\n",
    "}\n",
    "\n",
    "\"\"\"\n",
    "cd_kernel = cp.RawKernel(source, 'dopplerColor')\n"
   ]
  },
  {
   "cell_type": "code",
   "execution_count": null,
   "id": "0127bf9c-2dbc-482c-979e-2a58381c3eab",
   "metadata": {},
   "outputs": [],
   "source": [
    "source = r\"\"\"\n",
    "#include <cupy/complex.cuh>\n",
    "extern \"C\" __global__ \n",
    "void dopplerColor(float *color, \n",
    "                  float *power, \n",
    "                  const complex<float> *iqImg, \n",
    "                  int const nZPix, \n",
    "                  int const nXPix, \n",
    "                  int const nRep)\n",
    "{\n",
    "    int z = blockIdx.x * blockDim.x + threadIdx.x;\n",
    "    int x = blockIdx.y * blockDim.y + threadIdx.y;\n",
    "    \n",
    "    float2 iqPixCurr, iqPixPrev;\n",
    "    float auxPower;\n",
    "    float2 auxColor = {0.f, 0.f};\n",
    "    \n",
    "    if (z>=nZPix || x>=nXPix) {\n",
    "        return;\n",
    "    }\n",
    "    \n",
    "    /* Color & Power estimation */\n",
    "    iqPixCurr = iqImg[z + x * nZPix];\n",
    "    auxPower = iqPixCurr.x * iqPixCurr.x + iqPixCurr.y * iqPixCurr.y;\n",
    "    for (int iRep=1; iRep<nRep; iRep++) {\n",
    "        iqPixPrev = iqPixCurr;\n",
    "        iqPixCurr = iqImg[z + x * nZPix + iRep * nZPix * nXPix];\n",
    "        \n",
    "        auxPower += iqPixCurr.x * iqPixCurr.x + iqPixCurr.y * iqPixCurr.y;\n",
    "        auxColor.x += iqPixCurr.x * iqPixPrev.x + iqPixCurr.y * iqPixPrev.y;\n",
    "        auxColor.y += iqPixCurr.y * iqPixPrev.x - iqPixCurr.x * iqPixPrev.y;\n",
    "    }\n",
    "    //color[z + x*nZPix] = atan2f(auxColor.y, auxColor.x);\n",
    "    color[z + x*nZPix] = 10;\n",
    "    power[z + x*nZPix] = auxPower / nRep;\n",
    "}\n",
    "\n",
    "\"\"\"\n",
    "cd_kernel = cp.RawKernel(source, 'dopplerColor')"
   ]
  },
  {
   "cell_type": "code",
   "execution_count": 22,
   "id": "9e7e6e0c-80fd-4e51-9962-3ebbd57f8d9c",
   "metadata": {},
   "outputs": [
    {
     "name": "stdout",
     "output_type": "stream",
     "text": [
      "[  0  64 128 192 256 320 384 448]\n",
      "[  1  65 129 193 257 321 385 449]\n",
      "[  2  66 130 194 258 322 386 450]\n"
     ]
    },
    {
     "ename": "CompileException",
     "evalue": "/tmp/tmpmi6i5wjm/b8ad4434f51357edfa2b1f0f3f5d7aa3_2.cubin.cu(23): error: no operator \"=\" matches these operands\n            operand types are: float2 = const thrust::complex<float>\n\n/tmp/tmpmi6i5wjm/b8ad4434f51357edfa2b1f0f3f5d7aa3_2.cubin.cu(27): error: no operator \"=\" matches these operands\n            operand types are: float2 = const thrust::complex<float>\n\n2 errors detected in the compilation of \"/tmp/tmpmi6i5wjm/b8ad4434f51357edfa2b1f0f3f5d7aa3_2.cubin.cu\".\n",
     "output_type": "error",
     "traceback": [
      "\u001b[0;31m---------------------------------------------------------------------------\u001b[0m",
      "\u001b[0;31mNVRTCError\u001b[0m                                Traceback (most recent call last)",
      "\u001b[0;32m~/bin/miniconda3/envs/ius/lib/python3.8/site-packages/cupy/cuda/compiler.py\u001b[0m in \u001b[0;36mcompile\u001b[0;34m(self, options, log_stream)\u001b[0m\n\u001b[1;32m    548\u001b[0m                     \u001b[0mnvrtc\u001b[0m\u001b[0;34m.\u001b[0m\u001b[0maddAddNameExpression\u001b[0m\u001b[0;34m(\u001b[0m\u001b[0mself\u001b[0m\u001b[0;34m.\u001b[0m\u001b[0mptr\u001b[0m\u001b[0;34m,\u001b[0m \u001b[0mker\u001b[0m\u001b[0;34m)\u001b[0m\u001b[0;34m\u001b[0m\u001b[0;34m\u001b[0m\u001b[0m\n\u001b[0;32m--> 549\u001b[0;31m             \u001b[0mnvrtc\u001b[0m\u001b[0;34m.\u001b[0m\u001b[0mcompileProgram\u001b[0m\u001b[0;34m(\u001b[0m\u001b[0mself\u001b[0m\u001b[0;34m.\u001b[0m\u001b[0mptr\u001b[0m\u001b[0;34m,\u001b[0m \u001b[0moptions\u001b[0m\u001b[0;34m)\u001b[0m\u001b[0;34m\u001b[0m\u001b[0;34m\u001b[0m\u001b[0m\n\u001b[0m\u001b[1;32m    550\u001b[0m             \u001b[0mmapping\u001b[0m \u001b[0;34m=\u001b[0m \u001b[0;32mNone\u001b[0m\u001b[0;34m\u001b[0m\u001b[0;34m\u001b[0m\u001b[0m\n",
      "\u001b[0;32mcupy_backends/cuda/libs/nvrtc.pyx\u001b[0m in \u001b[0;36mcupy_backends.cuda.libs.nvrtc.compileProgram\u001b[0;34m()\u001b[0m\n",
      "\u001b[0;32mcupy_backends/cuda/libs/nvrtc.pyx\u001b[0m in \u001b[0;36mcupy_backends.cuda.libs.nvrtc.compileProgram\u001b[0;34m()\u001b[0m\n",
      "\u001b[0;32mcupy_backends/cuda/libs/nvrtc.pyx\u001b[0m in \u001b[0;36mcupy_backends.cuda.libs.nvrtc.check_status\u001b[0;34m()\u001b[0m\n",
      "\u001b[0;31mNVRTCError\u001b[0m: NVRTC_ERROR_COMPILATION (6)",
      "\nDuring handling of the above exception, another exception occurred:\n",
      "\u001b[0;31mCompileException\u001b[0m                          Traceback (most recent call last)",
      "\u001b[0;32m<timed eval>\u001b[0m in \u001b[0;36m<module>\u001b[0;34m\u001b[0m\n",
      "\u001b[0;32mcupy/core/raw.pyx\u001b[0m in \u001b[0;36mcupy.core.raw.RawKernel.__call__\u001b[0;34m()\u001b[0m\n",
      "\u001b[0;32mcupy/core/raw.pyx\u001b[0m in \u001b[0;36mcupy.core.raw.RawKernel.kernel.__get__\u001b[0;34m()\u001b[0m\n",
      "\u001b[0;32mcupy/core/raw.pyx\u001b[0m in \u001b[0;36mcupy.core.raw.RawKernel._kernel\u001b[0;34m()\u001b[0m\n",
      "\u001b[0;32mcupy/_util.pyx\u001b[0m in \u001b[0;36mcupy._util.memoize.decorator.ret\u001b[0;34m()\u001b[0m\n",
      "\u001b[0;32mcupy/core/raw.pyx\u001b[0m in \u001b[0;36mcupy.core.raw._get_raw_module\u001b[0;34m()\u001b[0m\n",
      "\u001b[0;32mcupy/core/core.pyx\u001b[0m in \u001b[0;36mcupy.core.core.compile_with_cache\u001b[0;34m()\u001b[0m\n",
      "\u001b[0;32mcupy/core/core.pyx\u001b[0m in \u001b[0;36mcupy.core.core.compile_with_cache\u001b[0;34m()\u001b[0m\n",
      "\u001b[0;32m~/bin/miniconda3/envs/ius/lib/python3.8/site-packages/cupy/cuda/compiler.py\u001b[0m in \u001b[0;36mcompile_with_cache\u001b[0;34m(source, options, arch, cache_dir, extra_source, backend, enable_cooperative_groups, name_expressions, log_stream)\u001b[0m\n\u001b[1;32m    368\u001b[0m             name_expressions, log_stream, cache_in_memory)\n\u001b[1;32m    369\u001b[0m     \u001b[0;32melse\u001b[0m\u001b[0;34m:\u001b[0m\u001b[0;34m\u001b[0m\u001b[0;34m\u001b[0m\u001b[0m\n\u001b[0;32m--> 370\u001b[0;31m         return _compile_with_cache_cuda(\n\u001b[0m\u001b[1;32m    371\u001b[0m             \u001b[0msource\u001b[0m\u001b[0;34m,\u001b[0m \u001b[0moptions\u001b[0m\u001b[0;34m,\u001b[0m \u001b[0march\u001b[0m\u001b[0;34m,\u001b[0m \u001b[0mcache_dir\u001b[0m\u001b[0;34m,\u001b[0m \u001b[0mextra_source\u001b[0m\u001b[0;34m,\u001b[0m \u001b[0mbackend\u001b[0m\u001b[0;34m,\u001b[0m\u001b[0;34m\u001b[0m\u001b[0;34m\u001b[0m\u001b[0m\n\u001b[1;32m    372\u001b[0m             \u001b[0menable_cooperative_groups\u001b[0m\u001b[0;34m,\u001b[0m \u001b[0mname_expressions\u001b[0m\u001b[0;34m,\u001b[0m \u001b[0mlog_stream\u001b[0m\u001b[0;34m,\u001b[0m\u001b[0;34m\u001b[0m\u001b[0;34m\u001b[0m\u001b[0m\n",
      "\u001b[0;32m~/bin/miniconda3/envs/ius/lib/python3.8/site-packages/cupy/cuda/compiler.py\u001b[0m in \u001b[0;36m_compile_with_cache_cuda\u001b[0;34m(source, options, arch, cache_dir, extra_source, backend, enable_cooperative_groups, name_expressions, log_stream, cache_in_memory)\u001b[0m\n\u001b[1;32m    433\u001b[0m     \u001b[0;32mif\u001b[0m \u001b[0mbackend\u001b[0m \u001b[0;34m==\u001b[0m \u001b[0;34m'nvrtc'\u001b[0m\u001b[0;34m:\u001b[0m\u001b[0;34m\u001b[0m\u001b[0;34m\u001b[0m\u001b[0m\n\u001b[1;32m    434\u001b[0m         \u001b[0mcu_name\u001b[0m \u001b[0;34m=\u001b[0m \u001b[0;34m''\u001b[0m \u001b[0;32mif\u001b[0m \u001b[0mcache_in_memory\u001b[0m \u001b[0;32melse\u001b[0m \u001b[0mname\u001b[0m \u001b[0;34m+\u001b[0m \u001b[0;34m'.cu'\u001b[0m\u001b[0;34m\u001b[0m\u001b[0;34m\u001b[0m\u001b[0m\n\u001b[0;32m--> 435\u001b[0;31m         ptx, mapping = compile_using_nvrtc(\n\u001b[0m\u001b[1;32m    436\u001b[0m             \u001b[0msource\u001b[0m\u001b[0;34m,\u001b[0m \u001b[0moptions\u001b[0m\u001b[0;34m,\u001b[0m \u001b[0march\u001b[0m\u001b[0;34m,\u001b[0m \u001b[0mcu_name\u001b[0m\u001b[0;34m,\u001b[0m \u001b[0mname_expressions\u001b[0m\u001b[0;34m,\u001b[0m\u001b[0;34m\u001b[0m\u001b[0;34m\u001b[0m\u001b[0m\n\u001b[1;32m    437\u001b[0m             log_stream, cache_in_memory)\n",
      "\u001b[0;32m~/bin/miniconda3/envs/ius/lib/python3.8/site-packages/cupy/cuda/compiler.py\u001b[0m in \u001b[0;36mcompile_using_nvrtc\u001b[0;34m(source, options, arch, filename, name_expressions, log_stream, cache_in_memory)\u001b[0m\n\u001b[1;32m    209\u001b[0m                 \u001b[0mcu_file\u001b[0m\u001b[0;34m.\u001b[0m\u001b[0mwrite\u001b[0m\u001b[0;34m(\u001b[0m\u001b[0msource\u001b[0m\u001b[0;34m)\u001b[0m\u001b[0;34m\u001b[0m\u001b[0;34m\u001b[0m\u001b[0m\n\u001b[1;32m    210\u001b[0m \u001b[0;34m\u001b[0m\u001b[0m\n\u001b[0;32m--> 211\u001b[0;31m             return _compile(source, options, cu_path,\n\u001b[0m\u001b[1;32m    212\u001b[0m                             name_expressions, log_stream)\n\u001b[1;32m    213\u001b[0m     \u001b[0;32melse\u001b[0m\u001b[0;34m:\u001b[0m\u001b[0;34m\u001b[0m\u001b[0;34m\u001b[0m\u001b[0m\n",
      "\u001b[0;32m~/bin/miniconda3/envs/ius/lib/python3.8/site-packages/cupy/cuda/compiler.py\u001b[0m in \u001b[0;36m_compile\u001b[0;34m(source, options, cu_path, name_expressions, log_stream)\u001b[0m\n\u001b[1;32m    193\u001b[0m                              name_expressions=name_expressions)\n\u001b[1;32m    194\u001b[0m         \u001b[0;32mtry\u001b[0m\u001b[0;34m:\u001b[0m\u001b[0;34m\u001b[0m\u001b[0;34m\u001b[0m\u001b[0m\n\u001b[0;32m--> 195\u001b[0;31m             \u001b[0mptx\u001b[0m\u001b[0;34m,\u001b[0m \u001b[0mmapping\u001b[0m \u001b[0;34m=\u001b[0m \u001b[0mprog\u001b[0m\u001b[0;34m.\u001b[0m\u001b[0mcompile\u001b[0m\u001b[0;34m(\u001b[0m\u001b[0moptions\u001b[0m\u001b[0;34m,\u001b[0m \u001b[0mlog_stream\u001b[0m\u001b[0;34m)\u001b[0m\u001b[0;34m\u001b[0m\u001b[0;34m\u001b[0m\u001b[0m\n\u001b[0m\u001b[1;32m    196\u001b[0m         \u001b[0;32mexcept\u001b[0m \u001b[0mCompileException\u001b[0m \u001b[0;32mas\u001b[0m \u001b[0me\u001b[0m\u001b[0;34m:\u001b[0m\u001b[0;34m\u001b[0m\u001b[0;34m\u001b[0m\u001b[0m\n\u001b[1;32m    197\u001b[0m             dump = _get_bool_env_variable(\n",
      "\u001b[0;32m~/bin/miniconda3/envs/ius/lib/python3.8/site-packages/cupy/cuda/compiler.py\u001b[0m in \u001b[0;36mcompile\u001b[0;34m(self, options, log_stream)\u001b[0m\n\u001b[1;32m    558\u001b[0m         \u001b[0;32mexcept\u001b[0m \u001b[0mnvrtc\u001b[0m\u001b[0;34m.\u001b[0m\u001b[0mNVRTCError\u001b[0m\u001b[0;34m:\u001b[0m\u001b[0;34m\u001b[0m\u001b[0;34m\u001b[0m\u001b[0m\n\u001b[1;32m    559\u001b[0m             \u001b[0mlog\u001b[0m \u001b[0;34m=\u001b[0m \u001b[0mnvrtc\u001b[0m\u001b[0;34m.\u001b[0m\u001b[0mgetProgramLog\u001b[0m\u001b[0;34m(\u001b[0m\u001b[0mself\u001b[0m\u001b[0;34m.\u001b[0m\u001b[0mptr\u001b[0m\u001b[0;34m)\u001b[0m\u001b[0;34m\u001b[0m\u001b[0;34m\u001b[0m\u001b[0m\n\u001b[0;32m--> 560\u001b[0;31m             raise CompileException(log, self.src, self.name, options,\n\u001b[0m\u001b[1;32m    561\u001b[0m                                    'nvrtc' if not runtime.is_hip else 'hiprtc')\n\u001b[1;32m    562\u001b[0m \u001b[0;34m\u001b[0m\u001b[0m\n",
      "\u001b[0;31mCompileException\u001b[0m: /tmp/tmpmi6i5wjm/b8ad4434f51357edfa2b1f0f3f5d7aa3_2.cubin.cu(23): error: no operator \"=\" matches these operands\n            operand types are: float2 = const thrust::complex<float>\n\n/tmp/tmpmi6i5wjm/b8ad4434f51357edfa2b1f0f3f5d7aa3_2.cubin.cu(27): error: no operator \"=\" matches these operands\n            operand types are: float2 = const thrust::complex<float>\n\n2 errors detected in the compilation of \"/tmp/tmpmi6i5wjm/b8ad4434f51357edfa2b1f0f3f5d7aa3_2.cubin.cu\".\n"
     ]
    },
    {
     "name": "stdout",
     "output_type": "stream",
     "text": [
      "[[0. 0. 0. 0. 0. 0. 0. 0.]\n",
      " [0. 0. 0. 0. 0. 0. 0. 0.]\n",
      " [0. 0. 0. 0. 0. 0. 0. 0.]\n",
      " [0. 0. 0. 0. 0. 0. 0. 0.]\n",
      " [0. 0. 0. 0. 0. 0. 0. 0.]\n",
      " [0. 0. 0. 0. 0. 0. 0. 0.]\n",
      " [0. 0. 0. 0. 0. 0. 0. 0.]\n",
      " [0. 0. 0. 0. 0. 0. 0. 0.]]\n"
     ]
    }
   ],
   "source": [
    "#  create some test data\n",
    "nx = 8\n",
    "nz = 8\n",
    "n_frames = 8\n",
    "\n",
    "# iqdata = cp.ones((nz, nx, n_frames)).astype(complex)\n",
    "# iqdata = cp.arange(nx * nz * n_frames).astype(complex).reshape(nz, nx, n_frames)\n",
    "iqdata = cp.arange(nx * nz * n_frames).reshape(nz, nx, n_frames)\n",
    "# iqdata = iqdata + 1j*iqdata.T\n",
    "color =  cp.zeros((nz, nx))\n",
    "power =  cp.zeros((nz, nx))\n",
    "\n",
    "\n",
    "x1 = cp.arange(25, dtype=cp.float32).reshape(5, 5)\n",
    "x2 = cp.arange(25, dtype=cp.float32).reshape(5, 5)\n",
    "y = cp.zeros((5, 5), dtype=cp.float32)\n",
    "# print(y)\n",
    "# %time test_kernel((5,5), (5,), (x1, x2, y))  # grid, block and arguments\n",
    "# print(y)\n",
    "\n",
    "grid = (nx, nz)\n",
    "block = (n_frames, )\n",
    "\n",
    "print(iqdata[0:8, 0, 0])\n",
    "print(iqdata[0:8, 0, 1])\n",
    "print(iqdata[0:8, 0, 2])\n",
    "# print(color[0:8, 0:8, 0])\n",
    "%time cd_kernel(grid, block, (color, power, iqdata, nz, nx, n_frames))\n",
    "print(color)\n"
   ]
  },
  {
   "cell_type": "markdown",
   "id": "081a6abd-ad32-4453-be76-860bb82bdf4f",
   "metadata": {},
   "source": [
    "## A very brief introduction to Vector Doppler "
   ]
  },
  {
   "cell_type": "code",
   "execution_count": null,
   "id": "5b3ecfa5-dde6-4c82-bd11-ae782445adf6",
   "metadata": {},
   "outputs": [],
   "source": []
  },
  {
   "cell_type": "markdown",
   "id": "80cbbc23-321d-4a59-bbee-d634ab0f15c2",
   "metadata": {},
   "source": [
    "## The complete processing for Vector Doppler using CUDA"
   ]
  },
  {
   "cell_type": "code",
   "execution_count": null,
   "id": "eae48e86-21d5-4e4a-a1fb-75f5faef0ca3",
   "metadata": {},
   "outputs": [],
   "source": []
  },
  {
   "cell_type": "markdown",
   "id": "545ad21b-2fef-4234-aa20-87993f16554c",
   "metadata": {},
   "source": [
    "## Doing B-mode and Color/Vector processing in the same time - a single GPU (multiple streams) example"
   ]
  },
  {
   "cell_type": "code",
   "execution_count": null,
   "id": "d69fa245-1f27-4d91-830b-672513622801",
   "metadata": {},
   "outputs": [],
   "source": []
  },
  {
   "cell_type": "markdown",
   "id": "5ef67158-693a-4419-bf02-2838f4bbce9e",
   "metadata": {},
   "source": [
    "### References"
   ]
  },
  {
   "cell_type": "markdown",
   "id": "3d8ab8bb-add9-4175-8f20-31fb373b1790",
   "metadata": {},
   "source": [
    "[Evans2000] Evans, David H., and W. Norman McDicken. Doppler ultrasound: physics, instrumentation and signal processing. Wiley-Blackwell, 2000."
   ]
  }
 ],
 "metadata": {
  "kernelspec": {
   "display_name": "Python 3",
   "language": "python",
   "name": "python3"
  },
  "language_info": {
   "codemirror_mode": {
    "name": "ipython",
    "version": 3
   },
   "file_extension": ".py",
   "mimetype": "text/x-python",
   "name": "python",
   "nbconvert_exporter": "python",
   "pygments_lexer": "ipython3",
   "version": "3.8.8"
  }
 },
 "nbformat": 4,
 "nbformat_minor": 5
}
