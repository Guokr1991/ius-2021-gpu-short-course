{
 "cells": [
  {
   "cell_type": "markdown",
   "id": "182ac90e-23d2-49d6-bf9d-647e78cd0dc2",
   "metadata": {},
   "source": [
    "## A (very) brief introduction to Color Doppler \n",
    "\n",
    "Color doppler is a medical imaging modality for blood flow imaging.  \n",
    "It bases on the Doppler effect.  \n",
    "Doppler effect is a shift of a received signal frequency, when the wave source is moving relatively to the receiver.  \n",
    "In medicine 'sources' (i.e. moving tissue, specifically blood) do not emits acoustic waves, but are 'iluminated' by a ultrasound pulses produced by a probe.  \n",
    "It can be shown [Evans2000] that the shift in the received frequency is given by following equation:\n",
    "\n",
    "$\n",
    "f_d = f_t - f_r = \\frac{2f_tv\\cos{\\alpha}}{c}\n",
    "$\n",
    "\n",
    "where\n",
    "* $f_d$ - frequency shift, or doppler frequency,\n",
    "* $f_t$ - transmitted frequency, \n",
    "* $f_r$ - received frequency, \n",
    "* $v$ - speed of the blood,\n",
    "* $\\alpha$ - the angle between the ultrasound beam and the direction of motion of the blood,\n",
    "* $c$ - speed of sound in the medium. It is usually assumed that in soft tissue $c = 1540 [m/s]$.\n",
    "\n",
    "\n",
    "\n",
    "<!-- When the medical probe transmits the ultrasound pulse, and it is scattered on moving blood (i.e. on blood cells), the received echoes changes in phase.    -->\n",
    "In classical approach the probe transmits a series of (quite long) ultrasound pulses, receiving echoes after each transmit.  \n",
    "The series consists of $N$ transmit/receive (TR) events, and the higher $N$, the higher sensitivity, but lower doppler framerate.  \n",
    "Typically $N$ could be in the range of $8-16$ for classical methods and $32-256$ for synthetic aperture methods, however there are no strict rules.  \n",
    "The TR events in the series are repeated with constant Pulse Repetition Frequency (PRF).  \n",
    "Thus the time between TR events - Pulse Repetition Interval (PRI) is equal $\\frac{1}{PRF}$.  \n",
    "The received signals are IQ demodulated. The $f_d$ can be estimated from IQ signal by means of autocorrelation esitmator:  \n",
    "\n",
    "$\n",
    "\\overline{f_d} = \\frac{1}{2\\pi{}PRI} \n",
    "    \\tan^{-1}{\\left\\{ \n",
    "        \\frac{\\sum^{N}_{i=1}{Q(i)I(i-1) - I(i)Q(i-1)}}\n",
    "             {\\sum^{N}_{i=1}{I(i)I(i-1) + Q(i)Q(i-1)}}\n",
    "    \\right\\}}\n",
    "$\n",
    "\n",
    "\n",
    "\n",
    "<!-- , and next the phase is estimated for each sample.  \n",
    "Then, for each sample the phase changes $\\Delta{\\theta}$ from TR to TR are calculated. Sometimes it is refered as phase changes in 'slow time'.  \n",
    "The doppler frequency (averaged over time) can be calculated from the formula\n",
    "\n",
    "$\n",
    "\\overline{f_d} = \\frac{1}{N-1} \\sum_{n=1}^{N-1} \\frac{\\Delta{\\theta}_{n}}{PRI}\n",
    "$\n",
    "\n",
    " -->\n",
    "Then, we can use the following formula to estimate (average) speed of the blood flow.  \n",
    "\n",
    "$\n",
    "v_s = \\frac{\\overline{f_d}}{f_t} \\frac{c}{2\\cos{\\alpha}}\n",
    "$\n",
    "\n",
    "\n",
    "\n"
   ]
  },
  {
   "cell_type": "markdown",
   "id": "9f473063-364b-44f5-bbfa-57911892111d",
   "metadata": {},
   "source": [
    "## The complete processing for Color Doppler using CUDA"
   ]
  },
  {
   "cell_type": "markdown",
   "id": "97a7dd84-cb32-45bd-b170-8c9a7bcb2110",
   "metadata": {},
   "source": [
    "Data loading"
   ]
  },
  {
   "cell_type": "code",
   "execution_count": 9,
   "id": "f65bf270-e8b7-4835-9fd7-2dc38ea11ab6",
   "metadata": {},
   "outputs": [
    {
     "name": "stdout",
     "output_type": "stream",
     "text": [
      "dict_keys(['__header__', '__version__', '__globals__', 'iq', 'prf', 'sos', 'txFrequency', 'xGrid', 'zGrid'])\n"
     ]
    },
    {
     "ename": "KeyError",
     "evalue": "'rf'",
     "output_type": "error",
     "traceback": [
      "\u001b[0;31m---------------------------------------------------------------------------\u001b[0m",
      "\u001b[0;31mKeyError\u001b[0m                                  Traceback (most recent call last)",
      "\u001b[0;32m/tmp/ipykernel_3986/123504645.py\u001b[0m in \u001b[0;36m<module>\u001b[0;34m\u001b[0m\n\u001b[1;32m      7\u001b[0m \u001b[0;34m\u001b[0m\u001b[0m\n\u001b[1;32m      8\u001b[0m \u001b[0;34m\u001b[0m\u001b[0m\n\u001b[0;32m----> 9\u001b[0;31m \u001b[0mrf\u001b[0m \u001b[0;34m=\u001b[0m \u001b[0mnp\u001b[0m\u001b[0;34m.\u001b[0m\u001b[0msqueeze\u001b[0m\u001b[0;34m(\u001b[0m\u001b[0mdata\u001b[0m\u001b[0;34m[\u001b[0m\u001b[0;34m'rf'\u001b[0m\u001b[0;34m]\u001b[0m\u001b[0;34m)\u001b[0m \u001b[0;31m# radio-frequency (rf) data acquired by probe elements\u001b[0m\u001b[0;34m\u001b[0m\u001b[0;34m\u001b[0m\u001b[0m\n\u001b[0m\u001b[1;32m     10\u001b[0m \u001b[0mrf\u001b[0m \u001b[0;34m=\u001b[0m \u001b[0mnp\u001b[0m\u001b[0;34m.\u001b[0m\u001b[0mtranspose\u001b[0m\u001b[0;34m(\u001b[0m\u001b[0mrf\u001b[0m\u001b[0;34m,\u001b[0m\u001b[0;34m(\u001b[0m\u001b[0;36m2\u001b[0m\u001b[0;34m,\u001b[0m\u001b[0;36m1\u001b[0m\u001b[0;34m,\u001b[0m\u001b[0;36m0\u001b[0m\u001b[0;34m)\u001b[0m\u001b[0;34m)\u001b[0m \u001b[0;31m# transposition to (n_transmissions, n_channels, n_samples) order\u001b[0m\u001b[0;34m\u001b[0m\u001b[0;34m\u001b[0m\u001b[0m\n\u001b[1;32m     11\u001b[0m \u001b[0;34m\u001b[0m\u001b[0m\n",
      "\u001b[0;31mKeyError\u001b[0m: 'rf'"
     ]
    }
   ],
   "source": [
    "from scipy.io import loadmat\n",
    "import numpy as np\n",
    "\n",
    "data = loadmat('./data/iqImgML_batch01.mat')\n",
    "print(data.keys())\n",
    "\n",
    "c = np.squeeze(data['sos']) # speed of sound\n",
    "iq\n",
    "\n",
    "\n",
    "# decimation - the fs=1e8 is not necessary high\n",
    "dec = 4\n",
    "rf = signal.decimate(rf, dec)\n",
    "fs = fs/dec\n",
    "\n",
    "print(f'Data loaded. Sampling frequency [MHz]: {fs*1e-6}')"
   ]
  },
  {
   "cell_type": "markdown",
   "id": "132a4512-692b-48db-8131-8cfc3e5da8a8",
   "metadata": {},
   "source": [
    "Kernel definitions"
   ]
  },
  {
   "cell_type": "code",
   "execution_count": 5,
   "id": "d3aa695c-518b-497e-924c-893310bcca9b",
   "metadata": {},
   "outputs": [
    {
     "name": "stdout",
     "output_type": "stream",
     "text": [
      "CPU times: user 262 µs, sys: 0 ns, total: 262 µs\n",
      "Wall time: 140 µs\n",
      "[[           nan+1.2350037e+00j -3.1415927e+00+1.5707951e+00j\n",
      "   3.1415927e+00-1.5707964e+00j  3.1415927e+00-6.9826434e-04j\n",
      "   7.2909734e-06-1.5707964e+00j  1.5707964e+00+3.1415927e+00j\n",
      "   3.1415927e+00          +nanj            nan+0.0000000e+00j]\n",
      " [ 7.6189742e-11          +nanj  0.0000000e+00+3.1415927e+00j\n",
      "             nan+0.0000000e+00j  3.1415927e+00+3.1415927e+00j\n",
      "   0.0000000e+00-1.1411368e-01j  1.5707964e+00+1.5707964e+00j\n",
      "   3.1415915e+00+0.0000000e+00j -1.5557959e+00-3.1415927e+00j]\n",
      " [ 1.5707964e+00-3.1415927e+00j            nan-0.0000000e+00j\n",
      "  -3.1438464e-07+6.2227885e-09j            nan+3.7078307e-10j\n",
      "   3.1415927e+00-1.5707964e+00j            nan+0.0000000e+00j\n",
      "  -1.9088589e-01+1.5707964e+00j            nan-5.4592493e-07j]\n",
      " [           nan          +nanj -0.0000000e+00+3.1415927e+00j\n",
      "  -2.1036710e-08-3.1415896e+00j -0.0000000e+00          +nanj\n",
      "             nan-3.1415927e+00j -3.1415927e+00-1.4982168e-11j\n",
      "             nan-1.5705371e+00j -0.0000000e+00-1.2792405e-05j]\n",
      " [ 0.0000000e+00+0.0000000e+00j  0.0000000e+00+0.0000000e+00j\n",
      "   0.0000000e+00+0.0000000e+00j  0.0000000e+00+0.0000000e+00j\n",
      "   0.0000000e+00+0.0000000e+00j  0.0000000e+00+0.0000000e+00j\n",
      "   0.0000000e+00+0.0000000e+00j  0.0000000e+00+0.0000000e+00j]\n",
      " [ 0.0000000e+00+0.0000000e+00j  0.0000000e+00+0.0000000e+00j\n",
      "   0.0000000e+00+0.0000000e+00j  0.0000000e+00+0.0000000e+00j\n",
      "   0.0000000e+00+0.0000000e+00j  0.0000000e+00+0.0000000e+00j\n",
      "   0.0000000e+00+0.0000000e+00j  0.0000000e+00+0.0000000e+00j]\n",
      " [ 0.0000000e+00+0.0000000e+00j  0.0000000e+00+0.0000000e+00j\n",
      "   0.0000000e+00+0.0000000e+00j  0.0000000e+00+0.0000000e+00j\n",
      "   0.0000000e+00+0.0000000e+00j  0.0000000e+00+0.0000000e+00j\n",
      "   0.0000000e+00+0.0000000e+00j  0.0000000e+00+0.0000000e+00j]\n",
      " [ 0.0000000e+00+0.0000000e+00j  0.0000000e+00+0.0000000e+00j\n",
      "   0.0000000e+00+0.0000000e+00j  0.0000000e+00+0.0000000e+00j\n",
      "   0.0000000e+00+0.0000000e+00j  0.0000000e+00+0.0000000e+00j\n",
      "   0.0000000e+00+0.0000000e+00j  0.0000000e+00+0.0000000e+00j]]\n"
     ]
    }
   ],
   "source": [
    "import cupy as cp\n",
    "\n",
    "source = r\"\"\"\n",
    "\n",
    "#include <cupy/complex.cuh>\n",
    "extern \"C\" __global__ \n",
    "void dopplerColor(float *color, \n",
    "                  const complex<float> *iqFrames, \n",
    "                  const int nz, \n",
    "                  const int nx, \n",
    "                  const int nFrames)\n",
    "                  \n",
    "{\n",
    "    int z = blockIdx.x * blockDim.x + threadIdx.x;\n",
    "    int x = blockIdx.y * blockDim.y + threadIdx.y;\n",
    "    \n",
    "    complex<float> iqCurrent, iqPrevious;\n",
    "    complex<float> auxColor(0.0f, 0.0f);\n",
    "    float ic, qc, ip, qp, nom, den;\n",
    "    \n",
    "    if (z>=nz || x>=nx) {\n",
    "        return;\n",
    "    }\n",
    "    \n",
    "    /* Color estimation */\n",
    "    iqCurrent = iqFrames[z + x * nz];\n",
    "    for (int iFrame=1; iFrame<nFrames; iFrame++) {\n",
    "        iqPrevious = iqCurrent;\n",
    "        iqCurrent = iqFrames[z + x*nz + iFrame*nz*nx];\n",
    "        ic = real(iqCurrent);\n",
    "        qc = imag(iqCurrent);\n",
    "        ip = real(iqPrevious);\n",
    "        qp = imag(iqPrevious);\n",
    "        den += ic*ip + qc*qp;\n",
    "        nom += qc*ip - ic*qp;\n",
    "    }\n",
    "    color[z + x*nz] = atan2f(nom, den);\n",
    "}\n",
    "\n",
    "\"\"\"\n",
    "dopplerColor = cp.RawKernel(source, 'dopplerColor')\n",
    "\n",
    "# kernel test\n",
    "nx = 8\n",
    "nz = 8\n",
    "nFrames = 8\n",
    "# iq = cp.arange(nx * nz * nFrames, dtype=cp.complex64).reshape(nz, nx, nFrames)\n",
    "iq = cp.random.random(nx * nz * nFrames) + cp.random.random(nx * nz * nFrames) * 1j\n",
    "iq = iq.reshape(nz, nx, nFrames)\n",
    "color =  cp.zeros((nz, nx), dtype=cp.complex64)\n",
    "power =  cp.zeros((nz, nx), dtype=cp.complex64)\n",
    "grid = (nx, nz)\n",
    "block = (nFrames, )\n",
    "# print(iq)\n",
    "%time dopplerColor(grid, block, (color, iq, nz, nx, nFrames))\n",
    "print(color)\n"
   ]
  },
  {
   "cell_type": "markdown",
   "id": "081a6abd-ad32-4453-be76-860bb82bdf4f",
   "metadata": {},
   "source": [
    "## A very brief introduction to Vector Doppler "
   ]
  },
  {
   "cell_type": "code",
   "execution_count": null,
   "id": "5b3ecfa5-dde6-4c82-bd11-ae782445adf6",
   "metadata": {},
   "outputs": [],
   "source": []
  },
  {
   "cell_type": "markdown",
   "id": "80cbbc23-321d-4a59-bbee-d634ab0f15c2",
   "metadata": {},
   "source": [
    "## The complete processing for Vector Doppler using CUDA"
   ]
  },
  {
   "cell_type": "code",
   "execution_count": null,
   "id": "eae48e86-21d5-4e4a-a1fb-75f5faef0ca3",
   "metadata": {},
   "outputs": [],
   "source": []
  },
  {
   "cell_type": "markdown",
   "id": "545ad21b-2fef-4234-aa20-87993f16554c",
   "metadata": {},
   "source": [
    "## Doing B-mode and Color/Vector processing in the same time - a single GPU (multiple streams) example"
   ]
  },
  {
   "cell_type": "code",
   "execution_count": null,
   "id": "d69fa245-1f27-4d91-830b-672513622801",
   "metadata": {},
   "outputs": [],
   "source": []
  },
  {
   "cell_type": "markdown",
   "id": "5ef67158-693a-4419-bf02-2838f4bbce9e",
   "metadata": {},
   "source": [
    "### References"
   ]
  },
  {
   "cell_type": "markdown",
   "id": "3d8ab8bb-add9-4175-8f20-31fb373b1790",
   "metadata": {},
   "source": [
    "[Evans2000] Evans, David H., and W. Norman McDicken. Doppler ultrasound: physics, instrumentation and signal processing. Wiley-Blackwell, 2000."
   ]
  }
 ],
 "metadata": {
  "kernelspec": {
   "display_name": "Python 3 (ipykernel)",
   "language": "python",
   "name": "python3"
  },
  "language_info": {
   "codemirror_mode": {
    "name": "ipython",
    "version": 3
   },
   "file_extension": ".py",
   "mimetype": "text/x-python",
   "name": "python",
   "nbconvert_exporter": "python",
   "pygments_lexer": "ipython3",
   "version": "3.8.10"
  }
 },
 "nbformat": 4,
 "nbformat_minor": 5
}
