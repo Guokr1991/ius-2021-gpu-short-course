{
 "cells": [
  {
   "cell_type": "code",
   "execution_count": 4,
   "id": "23c21a80-8899-4dce-b2a3-8990c090c132",
   "metadata": {},
   "outputs": [],
   "source": [
    "from numba import cuda, njit, vectorize, guvectorize, prange, float64\n",
    "import numpy as np\n",
    "import matplotlib.pyplot as plt\n",
    "from scipy.io import loadmat\n",
    "import scipy.signal as signal"
   ]
  },
  {
   "cell_type": "markdown",
   "id": "e206dc34-ad6b-44d9-99c2-c625a09db9e2",
   "metadata": {},
   "source": [
    "# load some data"
   ]
  },
  {
   "cell_type": "code",
   "execution_count": 2,
   "id": "0a9861c6-86b0-44a9-b359-60ab0a15e787",
   "metadata": {},
   "outputs": [
    {
     "name": "stdout",
     "output_type": "stream",
     "text": [
      "dict_keys(['__header__', '__version__', '__globals__', 'angles', 'c', 'fc', 'fs', 'pitch', 'rf', 'rfrc'])\n",
      "sampling frequency [MHz]: 25.0\n"
     ]
    }
   ],
   "source": [
    "data = loadmat('./data/sim_single_cyst.mat')\n",
    "print(data.keys())\n",
    "\n",
    "fs = np.squeeze(data['fs']) # sampling frequency\n",
    "fs = np.float64(fs)\n",
    "c = np.squeeze(data['c']) # speed of sound\n",
    "# when c is uint16 it raise error, thus it should be casted into proper type\n",
    "c = np.float64(c)\n",
    "\n",
    "pitch = np.squeeze(data['pitch']) # pitch\n",
    "angles = np.squeeze(data['angles']) # transmit angles\n",
    "\n",
    "rf = np.squeeze(data['rf']) # radio-frequency (rf) data acquired by probe elements\n",
    "rf = np.transpose(rf,(2,1,0))\n",
    "# decimation - the fs=1e8 is not necessary high\n",
    "dec = 4\n",
    "rf = signal.decimate(rf, dec)\n",
    "fs = fs/dec\n",
    "\n",
    "print(f'sampling frequency [MHz]: {fs*1e-6}')\n"
   ]
  },
  {
   "cell_type": "markdown",
   "id": "f06f95b3-828a-47f3-b93c-c48ef2c6f0db",
   "metadata": {},
   "source": [
    "***\n",
    "# FIR filter\n",
    "***\n",
    "<font size=\"4\">\n",
    "The finite impulse response (FIR) filter is given by equation \\eqref{fir}\n",
    "\n",
    "\\begin{equation}\n",
    "    y[n] = \\sum_{k=0}^{N-1} h[k]x[n-k] \n",
    "    \\label{fir} \\tag{1}\n",
    "\\end{equation}\n",
    "\n",
    "where *x* is an input signal, *h* is a filter impulse response and *y* is an output signal.\n",
    "Filtration is realised by convolving the signal with impulse response of the filter.\n",
    "\n",
    "  \n",
    "    \n",
    "***    \n",
    "</font>"
   ]
  },
  {
   "cell_type": "markdown",
   "id": "d33c2687-fda2-459d-9d82-5303b53ad47e",
   "metadata": {},
   "source": [
    "# FIR filter implementation - 1D (naive approach)"
   ]
  },
  {
   "cell_type": "markdown",
   "id": "f93009a9-2ebb-4ae6-87f8-963fdd973c96",
   "metadata": {},
   "source": [
    "### define some functions"
   ]
  },
  {
   "cell_type": "code",
   "execution_count": 80,
   "id": "3051f5e2-3dc1-47e8-82ff-ee3771ce90aa",
   "metadata": {},
   "outputs": [],
   "source": [
    "def present_signal(sig, fs, color='b', title=''):\n",
    "    '''\n",
    "    The function display input signal and its spectrum.\n",
    "    '''\n",
    "    f, p = signal.periodogram(sig,fs=fs)\n",
    "    \n",
    "    fig,ax = plt.subplots(nrows=1, ncols=2)\n",
    "    fig.suptitle(title)\n",
    "    ax[0].plot(sig,color=color)\n",
    "    ax[0].set_title('signal')\n",
    "    ax[0].set_xlabel('samples')\n",
    "    ax[0].set_ylabel('amplitude [a.u.]')\n",
    "    \n",
    "    ax[1].semilogy(f*1e-6, p/np.max(psig),color=color)\n",
    "    ax[1].set_title('power spectrum')\n",
    "    ax[1].set_xlabel('frequency [MHz]')\n",
    "    ax[1].set_ylabel('amplitude [a.u.]')\n",
    "    \n",
    "    plt.tight_layout()\n",
    "    \n",
    "    \n",
    "def convolve(sig, h):\n",
    "    '''\n",
    "    The function convolve signals (sig) with filter impulse response (h).\n",
    "    It convolve along the last dimension of sig array. \n",
    "    '''\n",
    "    \n",
    "    s = sig.shape\n",
    "    sfshape = s[0:-1] + (s[-1] - h.shape[-1],)\n",
    "    sigflt = np.zeros(sfshape)\n",
    "    \n",
    "    for i in range(sigflt.shape[-1]):\n",
    "        sigflt[..., i] = np.sum(sig[...,i:i+h.size]*h[::-1])\n",
    "        \n",
    "    return sigflt\n",
    "\n",
    "convolve_jit = njit()(convolve)\n",
    "\n",
    "\n",
    "# experiment\n",
    "@guvectorize([(float64[:], float64[:], float64[:])], '(),()->()')\n",
    "def convolve_guv(sig, h, sigflt):\n",
    "    '''\n",
    "    The function convolve two signals.\n",
    "    '''\n",
    "#     sigflt = np.zeros(sig.size - h.size)\n",
    "    for i in range(sigflt.size):\n",
    "        sigflt[i] = np.sum(sig[i:i+h.size]*h[::-1])\n",
    "        \n",
    "\n",
    "    \n",
    "    "
   ]
  },
  {
   "cell_type": "code",
   "execution_count": 82,
   "id": "1704e10c-e473-42d3-8989-ac9ab9298367",
   "metadata": {},
   "outputs": [
    {
     "name": "stdout",
     "output_type": "stream",
     "text": [
      "CPU times: user 15.5 ms, sys: 0 ns, total: 15.5 ms\n",
      "Wall time: 15.3 ms\n",
      "CPU times: user 1.09 ms, sys: 0 ns, total: 1.09 ms\n",
      "Wall time: 1.1 ms\n"
     ]
    }
   ],
   "source": [
    "# get some signal from rf array\n",
    "sig = rf[0,0,:]\n",
    "\n",
    "# create filter impulse response (filter coefficient array)\n",
    "ntaps = 256\n",
    "h = np.concatenate((np.linspace(0, 1, ntaps//2),\n",
    "                    np.linspace(1, 0, ntaps//2)))\n",
    "\n",
    "# ordinary convolve\n",
    "%time sigflt = convolve(sig, h)\n",
    "\n",
    "# convolve compiled by jit (the time gain will be visible after second run)\n",
    "%time sigflt = convolve_jit(sig, h)\n",
    "\n",
    "# sigflt2 = np.zeros(sig.shape)\n",
    "# print(sigflt2.shape)\n",
    "# convolve_guv(sig, h, sigflt2)\n",
    "\n",
    "\n",
    "\n",
    "\n",
    "\n",
    "\n",
    "\n",
    "# # do some graphs\n",
    "# fig,ax = plt.subplots(nrows=1, ncols=1)\n",
    "# ax.plot(h)\n",
    "# ax.set_title('filter impulse response')\n",
    "# present_signal(sig, fs, 'blue', 'input signal')\n",
    "# present_signal(sigflt, fs, 'red', 'filtered signal')\n"
   ]
  },
  {
   "cell_type": "code",
   "execution_count": 78,
   "id": "95899a64-20ee-4e1a-8cc8-439fe55a614d",
   "metadata": {},
   "outputs": [
    {
     "name": "stdout",
     "output_type": "stream",
     "text": [
      "(1, 2, 10)\n"
     ]
    }
   ],
   "source": [
    "10//3\n",
    "\n",
    "a = (1,2,3)\n",
    "b = a[0:-1]+(10,)\n",
    "print(b)"
   ]
  }
 ],
 "metadata": {
  "kernelspec": {
   "display_name": "Python 3",
   "language": "python",
   "name": "python3"
  },
  "language_info": {
   "codemirror_mode": {
    "name": "ipython",
    "version": 3
   },
   "file_extension": ".py",
   "mimetype": "text/x-python",
   "name": "python",
   "nbconvert_exporter": "python",
   "pygments_lexer": "ipython3",
   "version": "3.8.8"
  }
 },
 "nbformat": 4,
 "nbformat_minor": 5
}
