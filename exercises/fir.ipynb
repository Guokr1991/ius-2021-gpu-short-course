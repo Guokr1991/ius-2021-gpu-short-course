{
 "cells": [
  {
   "cell_type": "code",
   "execution_count": 1,
   "id": "23c21a80-8899-4dce-b2a3-8990c090c132",
   "metadata": {},
   "outputs": [],
   "source": [
    "from numba import cuda, njit, vectorize, guvectorize, prange, float64\n",
    "import numpy as np\n",
    "import matplotlib.pyplot as plt\n",
    "from scipy.io import loadmat\n",
    "import scipy.signal as signal"
   ]
  },
  {
   "cell_type": "markdown",
   "id": "e206dc34-ad6b-44d9-99c2-c625a09db9e2",
   "metadata": {},
   "source": [
    "# load some data"
   ]
  },
  {
   "cell_type": "code",
   "execution_count": 7,
   "id": "0a9861c6-86b0-44a9-b359-60ab0a15e787",
   "metadata": {},
   "outputs": [
    {
     "name": "stdout",
     "output_type": "stream",
     "text": [
      "Data loaded. Sampling frequency [MHz]: 25.0\n"
     ]
    }
   ],
   "source": [
    "data = loadmat('./data/sim_single_cyst.mat')\n",
    "# print(data.keys())\n",
    "\n",
    "fs = np.squeeze(data['fs']) # sampling frequency\n",
    "fs = np.float64(fs)\n",
    "c = np.squeeze(data['c']) # speed of sound\n",
    "# when c is uint16 it raises error, thus it should be casted into proper type\n",
    "c = np.float64(c)\n",
    "\n",
    "pitch = np.squeeze(data['pitch']) # pitch\n",
    "angles = np.squeeze(data['angles']) # transmit angles\n",
    "\n",
    "rf = np.squeeze(data['rf']) # radio-frequency (rf) data acquired by probe elements\n",
    "rf = np.transpose(rf,(2,1,0)) # transposition to (n_transmissions, n_channels, n_samples) order\n",
    "\n",
    "# decimation - the fs=1e8 is not necessary high\n",
    "dec = 4\n",
    "rf = signal.decimate(rf, dec)\n",
    "fs = fs/dec\n",
    "\n",
    "print(f'Data loaded. Sampling frequency [MHz]: {fs*1e-6}')\n",
    "\n"
   ]
  },
  {
   "cell_type": "markdown",
   "id": "f06f95b3-828a-47f3-b93c-c48ef2c6f0db",
   "metadata": {},
   "source": [
    "***\n",
    "# FIR filter\n",
    "***\n",
    "<font size=\"4\">\n",
    "The finite impulse response (FIR) filter is given by equation \\eqref{fir}\n",
    "\n",
    "\\begin{equation}\n",
    "    y[n] = \\sum_{k=0}^{N-1} h[k]x[n-k] \n",
    "    \\label{fir} \\tag{1}\n",
    "\\end{equation}\n",
    "\n",
    "where *x* is an input signal, *h* is the impulse response of the filter and *y* is an output signal.\n",
    "Filtration is realised by convolving the signal with impulse response of the filter.\n",
    "\n",
    "  \n",
    "    \n",
    "***    \n",
    "</font>"
   ]
  },
  {
   "cell_type": "markdown",
   "id": "d33c2687-fda2-459d-9d82-5303b53ad47e",
   "metadata": {},
   "source": [
    "# FIR filter implementation - (direct approach)"
   ]
  },
  {
   "cell_type": "markdown",
   "id": "f93009a9-2ebb-4ae6-87f8-963fdd973c96",
   "metadata": {},
   "source": [
    "### define some functions"
   ]
  },
  {
   "cell_type": "code",
   "execution_count": 40,
   "id": "3051f5e2-3dc1-47e8-82ff-ee3771ce90aa",
   "metadata": {},
   "outputs": [],
   "source": [
    "def present_signal(sig, fs, color='b', title=''):\n",
    "    '''\n",
    "    The function display input signal and its spectrum.\n",
    "    '''\n",
    "    f, p = signal.periodogram(sig,fs=fs)\n",
    "    \n",
    "    fig,ax = plt.subplots(nrows=1, ncols=2)\n",
    "    fig.suptitle(title)\n",
    "    ax[0].plot(sig,color=color)\n",
    "    ax[0].set_title('signal')\n",
    "    ax[0].set_xlabel('samples')\n",
    "    ax[0].set_ylabel('amplitude [a.u.]')\n",
    "    \n",
    "    ax[1].semilogy(f*1e-6, p/np.max(p),color=color)\n",
    "    ax[1].set_title('power spectrum')\n",
    "    ax[1].set_xlabel('frequency [MHz]')\n",
    "    ax[1].set_ylabel('amplitude [a.u.]')\n",
    "    \n",
    "    plt.tight_layout()\n",
    "    \n",
    "    \n",
    "def convolve(sig, h):\n",
    "    '''\n",
    "    The function convolve signals (sig) with filter impulse response (h).\n",
    "    It convolve along the last dimension of sig array. \n",
    "    '''\n",
    "    \n",
    "    s = sig.shape\n",
    "    sfshape = s[0:-1] + (s[-1] - h.shape[-1],)\n",
    "    sigflt = np.zeros(sfshape)\n",
    "    \n",
    "    for i in range(sigflt.shape[-1]):\n",
    "        sigflt[..., i] = np.sum(sig[...,i:i + h.size]*h[::-1])\n",
    "        \n",
    "    return sigflt\n",
    "\n",
    "# convolve njit version\n",
    "convolve_jit = njit()(convolve)\n",
    "\n",
    "\n",
    "def convolve3(rf, h):\n",
    "    ''' Docstring\n",
    "    \n",
    "    '''\n",
    "    s =  rf.shape\n",
    "\n",
    "        \n",
    "@cuda.jit(device=True)\n",
    "def dotproduct(a, b):\n",
    "    '''\n",
    "    Function enumerate dot product of two vectors.\n",
    "    This is a device function.\n",
    "    Unlike a kernel function, a device function can return a value like normal functions.\n",
    "    '''\n",
    "    c = 0\n",
    "    for i in range(a.size):\n",
    "        c += a[i]*b[i]\n",
    "    return c\n",
    "    \n",
    "# kernel    \n",
    "@cuda.jit\n",
    "def firkrn3d(rfflt, rf, h):\n",
    "    \"\"\"\n",
    "    Kernel function.\n",
    "    Realize FIR filtration by convolving signal sig with filter impulse response h.\n",
    "    Kernel function does not return a value - it modifies one of arguments into result.\n",
    "    \n",
    "    rfflt - output filtered 3D array,\n",
    "    rf - input 3D array,\n",
    "    h - filter impulse response.\n",
    "    \"\"\"\n",
    "\n",
    "    \n",
    "    w = h[::-1]\n",
    "#     w = cuda.const.array_like(w)\n",
    "    i, j, k = cuda.grid(3)\n",
    "    if i >= rf.shape[0] or j >= rf.shape[1] or k >= rf.shape[2] - w.size:\n",
    "        return\n",
    "    \n",
    "    # kernel does not return a value - it modifies one of arguments into result\n",
    "    rfflt[i,j,k] = dotproduct(rf[i,j,k:k+w.size], w)\n",
    "\n",
    "    \n",
    "\n",
    "def fir_gpu(rf, h):\n",
    "    '''\n",
    "    Wrapper funciton for calling gpu kernel.\n",
    "    \n",
    "    rf - input array,\n",
    "    h - filter impulse response.\n",
    "    '''\n",
    "    \n",
    "    \n",
    "    n_transmissions, n_channels, n_samples = rf.shape    \n",
    "    \n",
    "    # allocate output array on the device\n",
    "    n0, n1, n2 = rf.shape\n",
    "\n",
    "    \n",
    "    # put data arrays to the device\n",
    "    rfflt = cuda.device_array((n0, n1, n2))\n",
    "    \n",
    "    rf = np.ascontiguousarray(rf)\n",
    "    rf = cuda.to_device(rf)\n",
    "    \n",
    "    h = np.ascontiguousarray(h)\n",
    "    h = cuda.to_device(h)\n",
    "   \n",
    "    \n",
    "    \n",
    "    # define thread per block and blocks per grid size\n",
    "    # Note: total number of threads in block should not be bigger than 1024/512 (hardware dependent)\n",
    "    blockshape = (8, 8, 8)\n",
    "    gridshape_0 = (n0 + blockshape[0] - 1) // blockshape[0]\n",
    "    gridshape_1 = (n1 + blockshape[1] - 1) // blockshape[1]\n",
    "    gridshape_2 = (n2 + blockshape[2] - 1) // blockshape[2]\n",
    "    gridshape = (gridshape_0, gridshape_1, gridshape_2)\n",
    "    \n",
    "    # run kernel\n",
    "#     with cuda.defer_cleanup():\n",
    "    firkrn3d[gridshape,blockshape](rfflt, rf, h[::-1])\n",
    "    \n",
    "    # transfer data from device to host\n",
    "    rfflt = rfflt.copy_to_host()\n",
    "    return rfflt    \n",
    "    \n",
    "    "
   ]
  },
  {
   "cell_type": "code",
   "execution_count": 47,
   "id": "1704e10c-e473-42d3-8989-ac9ab9298367",
   "metadata": {},
   "outputs": [
    {
     "name": "stdout",
     "output_type": "stream",
     "text": [
      "CPU times: user 12.2 ms, sys: 37 µs, total: 12.2 ms\n",
      "Wall time: 12.1 ms\n",
      "CPU times: user 23 ms, sys: 15.8 ms, total: 38.8 ms\n",
      "Wall time: 37.5 ms\n"
     ]
    },
    {
     "data": {
      "image/png": "[encoded data removed]",
      "text/plain": [
       "<Figure size 432x288 with 1 Axes>"
      ]
     },
     "metadata": {
      "needs_background": "light"
     },
     "output_type": "display_data"
    },
    {
     "data": {
      "image/png": "[encoded data removed]",
      "text/plain": [
       "<Figure size 432x288 with 2 Axes>"
      ]
     },
     "metadata": {
      "needs_background": "light"
     },
     "output_type": "display_data"
    },
    {
     "data": {
      "image/png": "[encoded data removed]",
      "text/plain": [
       "<Figure size 432x288 with 2 Axes>"
      ]
     },
     "metadata": {
      "needs_background": "light"
     },
     "output_type": "display_data"
    }
   ],
   "source": [
    "# get some signal from rf array\n",
    "sig = rf[0,0,:]\n",
    "\n",
    "# create filter impulse response (filter coefficient array)\n",
    "ntaps = 256\n",
    "h = np.concatenate((np.linspace(0, 1, ntaps//2),\n",
    "                    np.linspace(1, 0, ntaps//2)))\n",
    "\n",
    "# ordinary convolve\n",
    "%time sigflt = convolve(sig, h)\n",
    "\n",
    "\n",
    "# convolve compiled by jit (the time gain will be visible after second run)\n",
    "# %time sigflt = convolve_jit(sig, h)\n",
    "\n",
    "# rfflt = np.zeros(rf.shape)\n",
    "%time rfflt = fir_gpu(rf, h)\n",
    "\n",
    "\n",
    "\n",
    "# fig,ax = plt.subplots(nrows=1, ncols=3)\n",
    "# ax[0].plot(rf[0,0,:])\n",
    "# ax[1].plot(rfflt[0,0,:])\n",
    "# ax[2].plot(h)\n",
    "\n",
    "\n",
    "\n",
    "# sigflt2 = np.zeros(sig.shape)\n",
    "# print(sigflt2.shape)\n",
    "# convolve_guv(sig, h, sigflt2)\n",
    "\n",
    "\n",
    "\n",
    "\n",
    "sig = rf[0, 0, :]\n",
    "sigflt = rfflt[0, 0, :]\n",
    "\n",
    "\n",
    "# # do some graphs\n",
    "fig,ax = plt.subplots(nrows=1, ncols=1)\n",
    "ax.plot(h)\n",
    "ax.set_title('filter impulse response')\n",
    "\n",
    "present_signal(sig, fs, 'blue', 'input signal')\n",
    "present_signal(sigflt, fs, 'red', 'filtered signal')\n"
   ]
  },
  {
   "cell_type": "code",
   "execution_count": 48,
   "id": "6d0282fa-2120-455f-8722-3865d2922419",
   "metadata": {},
   "outputs": [
    {
     "name": "stdout",
     "output_type": "stream",
     "text": [
      "======== Error: no application specified.\n"
     ]
    }
   ],
   "source": [
    "! nvprof"
   ]
  },
  {
   "cell_type": "code",
   "execution_count": 5,
   "id": "95899a64-20ee-4e1a-8cc8-439fe55a614d",
   "metadata": {},
   "outputs": [
    {
     "name": "stdout",
     "output_type": "stream",
     "text": [
      "1024\n"
     ]
    }
   ],
   "source": [
    "def dp(a, b):\n",
    "    '''\n",
    "    Function enumerate dot product of two vectors.\n",
    "    '''\n",
    "    c = 0\n",
    "    for i in range(a.size):\n",
    "        c += a[i]*b[i]\n",
    "        \n",
    "#     print(c)\n",
    "    return c\n",
    "\n",
    "rfflt = np.zeros(rf.shape)\n",
    "for k in range(rf.shape[2]):\n",
    "    rfflt[0, 0, k] = dp(rf[0,0,k:k+h.size], h)\n",
    "    \n",
    "print(8*8*16)"
   ]
  },
  {
   "cell_type": "code",
   "execution_count": 81,
   "id": "7aab2a2f-fc45-4242-9efb-b67f76b63162",
   "metadata": {},
   "outputs": [
    {
     "name": "stdout",
     "output_type": "stream",
     "text": [
      "Overwriting /tmp/profiled_test.py\n"
     ]
    }
   ],
   "source": [
    "%%writefile /tmp/profiled_test.py\n",
    "\n",
    "import numba\n",
    "from numba import cuda\n",
    "import numpy as np\n",
    "import math\n",
    "\n",
    "data = np.arange(1024, dtype=np.float32)\n",
    "gpu_data = cuda.to_device(data)\n",
    "\n",
    "@cuda.jit\n",
    "def increment_by_one(an_array):\n",
    "    pos = cuda.grid(1)\n",
    "    if pos < an_array.size:\n",
    "        an_array[pos] += 1\n",
    "        \n",
    "threadsperblock = (16,)\n",
    "blockspergrid_x = math.ceil(data.shape[0] / threadsperblock[0])\n",
    "blockspergrid = (blockspergrid_x, )\n",
    "\n",
    "# numba.cuda.profile_stop()\n",
    "increment_by_one[blockspergrid, threadsperblock](gpu_data)"
   ]
  },
  {
   "cell_type": "code",
   "execution_count": 82,
   "id": "4edbfdfd-09ca-4dff-b6fd-c743592b444c",
   "metadata": {},
   "outputs": [
    {
     "name": "stdout",
     "output_type": "stream",
     "text": [
      "==16396== NVPROF is profiling process 16396, command: python /tmp/profiled_test.py\n",
      "==16396== Profiling application: python /tmp/profiled_test.py\n",
      "==16396== Profiling result:\n",
      "            Type  Time(%)      Time     Calls       Avg       Min       Max  Name\n",
      " GPU activities:   56.59%  2.3360us         1  2.3360us  2.3360us  2.3360us  cudapy::__main__::increment_by_one$241(Array<float, int=1, C, mutable, aligned>)\n",
      "                   43.41%  1.7920us         1  1.7920us  1.7920us  1.7920us  [CUDA memcpy HtoD]\n",
      "      API calls:   96.07%  143.60ms         1  143.60ms  143.60ms  143.60ms  cuDevicePrimaryCtxRetain\n",
      "                    1.86%  2.7826ms       404  6.8870us     126ns  345.59us  cuDeviceGetAttribute\n",
      "                    1.32%  1.9743ms         4  493.56us  490.94us  495.36us  cuDeviceTotalMem\n",
      "                    0.26%  383.25us         8  47.906us  40.826us  69.237us  cuDeviceGetName\n",
      "                    0.13%  193.34us         1  193.34us  193.34us  193.34us  cuModuleLoadDataEx\n",
      "                    0.12%  173.84us         1  173.84us  173.84us  173.84us  cuMemAlloc\n",
      "                    0.07%  107.91us         1  107.91us  107.91us  107.91us  cuLinkAddData\n",
      "                    0.07%  105.23us         1  105.23us  105.23us  105.23us  cuLinkComplete\n",
      "                    0.04%  54.571us         1  54.571us  54.571us  54.571us  cuLinkCreate\n",
      "                    0.02%  27.071us         1  27.071us  27.071us  27.071us  cuLaunchKernel\n",
      "                    0.02%  25.623us         1  25.623us  25.623us  25.623us  cuMemGetInfo\n",
      "                    0.01%  17.338us         1  17.338us  17.338us  17.338us  cuMemcpyHtoD\n",
      "                    0.00%  4.6880us         6     781ns     308ns  1.9550us  cuCtxGetCurrent\n",
      "                    0.00%  4.2040us        12     350ns     119ns     615ns  cuDeviceGet\n",
      "                    0.00%  3.1980us         1  3.1980us  3.1980us  3.1980us  cuInit\n",
      "                    0.00%  2.2650us         5     453ns     243ns  1.0520us  cuFuncGetAttribute\n",
      "                    0.00%  2.0660us         4     516ns     146ns  1.0660us  cuDeviceGetCount\n",
      "                    0.00%  2.0540us         1  2.0540us  2.0540us  2.0540us  cuLinkDestroy\n",
      "                    0.00%  1.9660us         4     491ns     342ns     722ns  cuCtxGetDevice\n",
      "                    0.00%  1.7580us         1  1.7580us  1.7580us  1.7580us  cuModuleGetFunction\n",
      "                    0.00%  1.5710us         4     392ns     375ns     409ns\n",
      "                    0.00%  1.5100us         4     377ns     259ns     606ns  cuDeviceComputeCapability\n",
      "                    0.00%  1.4180us         1  1.4180us  1.4180us  1.4180us  cuCtxPushCurrent\n",
      "                    0.00%  1.1480us         1  1.1480us  1.1480us  1.1480us  cuDriverGetVersion\n",
      "                    0.00%     835ns         1     835ns     835ns     835ns  cudaRuntimeGetVersion\n"
     ]
    }
   ],
   "source": [
    "! nvprof python /tmp/profiled_test.py"
   ]
  }
 ],
 "metadata": {
  "kernelspec": {
   "display_name": "Python 3",
   "language": "python",
   "name": "python3"
  },
  "language_info": {
   "codemirror_mode": {
    "name": "ipython",
    "version": 3
   },
   "file_extension": ".py",
   "mimetype": "text/x-python",
   "name": "python",
   "nbconvert_exporter": "python",
   "pygments_lexer": "ipython3",
   "version": "3.8.8"
  }
 },
 "nbformat": 4,
 "nbformat_minor": 5
}
