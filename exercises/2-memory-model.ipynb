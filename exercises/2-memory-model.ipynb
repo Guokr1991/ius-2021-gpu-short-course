{
 "cells": [
  {
   "cell_type": "markdown",
   "id": "final-alfred",
   "metadata": {},
   "source": [
    "# 2. CUDA basics: memory hierarchy."
   ]
  },
  {
   "cell_type": "code",
   "execution_count": 2,
   "id": "guided-april",
   "metadata": {},
   "outputs": [],
   "source": [
    "from numba import cuda\n",
    "import cupy as cp"
   ]
  },
  {
   "cell_type": "code",
   "execution_count": null,
   "id": "unexpected-hunger",
   "metadata": {},
   "outputs": [],
   "source": [
    "cp.cuda.texture.CUDAArray()"
   ]
  }
 ],
 "metadata": {
  "kernelspec": {
   "display_name": "Python 3",
   "language": "python",
   "name": "python3"
  },
  "language_info": {
   "codemirror_mode": {
    "name": "ipython",
    "version": 3
   },
   "file_extension": ".py",
   "mimetype": "text/x-python",
   "name": "python",
   "nbconvert_exporter": "python",
   "pygments_lexer": "ipython3",
   "version": "3.8.8"
  }
 },
 "nbformat": 4,
 "nbformat_minor": 5
}
