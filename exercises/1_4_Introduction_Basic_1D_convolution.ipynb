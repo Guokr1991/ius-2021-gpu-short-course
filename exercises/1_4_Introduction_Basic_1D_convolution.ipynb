{
 "cells": [
  {
   "cell_type": "code",
   "execution_count": 1,
   "id": "d00e1a7d-7c69-44e1-bdb4-4c153140ecca",
   "metadata": {},
   "outputs": [],
   "source": [
    "import math\n",
    "import numpy as np\n",
    "from numba import cuda"
   ]
  },
  {
   "cell_type": "markdown",
   "id": "021c3f24-0dec-43ef-a79e-b2c29d63aee3",
   "metadata": {},
   "source": [
    "***\n",
    "# FIR filter\n",
    "***\n",
    "<font size=\"4\">\n",
    "The finite impulse response (FIR) filter is given by equation \\eqref{fir}\n",
    "\n",
    "\\begin{equation}\n",
    "    y[n] = \\sum_{k=0}^{N-1} h[k]x[n-k] \n",
    "    \\label{fir} \\tag{1}\n",
    "\\end{equation}\n",
    "\n",
    "where *x* is an input signal, *h* is the impulse response of the filter and *y* is an output signal.\n",
    "Filtration is realised by convolving the signal with impulse response of the filter.\n",
    "\n",
    "  \n",
    "    \n",
    "***    \n",
    "</font>"
   ]
  },
  {
   "cell_type": "markdown",
   "id": "b2a0d3e9-5f1f-41d2-a8c7-0bf24ee2f5d4",
   "metadata": {},
   "source": [
    "### Example: "
   ]
  },
  {
   "cell_type": "code",
   "execution_count": 2,
   "id": "dbda3c29-7468-4e83-9f02-e7b5cba74e51",
   "metadata": {},
   "outputs": [],
   "source": [
    "@cuda.jit\n",
    "def convolve_kernel(y, x, coeffs):\n",
    "    i = cuda.blockIdx.x*cuda.blockDim.x + cuda.threadIdx.x\n",
    "    if i < y.shape[0]:\n",
    "        value = 0.0    \n",
    "        n = min(coeffs.shape[0], i+1)\n",
    "        for j in range(n):\n",
    "            value += x[i-j]*coeffs[j]\n",
    "        y[i] = value"
   ]
  },
  {
   "cell_type": "code",
   "execution_count": 3,
   "id": "528746d7-684e-4fe5-a7d0-a38c9e0c1a1d",
   "metadata": {},
   "outputs": [],
   "source": [
    "def convolve(y, x, h):\n",
    "    block_size = (256, )\n",
    "    grid_size = (math.ceil(len(y)/block_size[0]), )\n",
    "    convolve_kernel[grid_size, block_size](y, x, h)"
   ]
  },
  {
   "cell_type": "markdown",
   "id": "b502adfa-9413-4f4e-8cc4-4d5e1cdaa56e",
   "metadata": {},
   "source": [
    "```\n",
    "\n",
    "x = [0, 1, 2, 3, 4]\n",
    "h = [0, 1, 2]\n",
    "\n",
    "```\n",
    "\n",
    "```\n",
    "y[0] = h[0]*x[0]                     = 0  \n",
    "y[1] = h[0]*x[1]+h[1]*x[0]           = 0\n",
    "y[2] = h[0]*x[2]+h[1]*x[1]*h[2]*x[0] = 1\n",
    "y[3] = h[0]*x[3]+h[1]*x[2]*h[2]*x[0] = 4\n",
    "y[4] = h[0]*x[4]+h[1]*x[3]+h[2]*x[2] = 7\n",
    "```\n",
    "\n",
    "```\n",
    " x = [0, 1, 2, 3, 4]  y = \n",
    "     [0]                  [0]\n",
    "     [1, 0]               [0]\n",
    "     [2, 1, 0]            [1]\n",
    "        [2, 1, 0]         [4]\n",
    "           [2, 1, 0]      [7]\n",
    "```"
   ]
  },
  {
   "cell_type": "code",
   "execution_count": 4,
   "id": "272c530b-566b-4d53-8bb3-a4cfa26c9524",
   "metadata": {},
   "outputs": [
    {
     "data": {
      "text/plain": [
       "array([0., 0., 1., 4., 7.])"
      ]
     },
     "execution_count": 4,
     "metadata": {},
     "output_type": "execute_result"
    }
   ],
   "source": [
    "x = np.array([0, 1, 2, 3, 4])\n",
    "h = np.array([0, 1, 2])\n",
    "y_gpu = cuda.device_array(len(x))\n",
    "\n",
    "convolve(y_gpu, x, h)\n",
    "\n",
    "y_host = y_gpu.copy_to_host()\n",
    "np.testing.assert_equal(y_host, [0, 0, 1, 4, 7])\n",
    "y_host"
   ]
  },
  {
   "cell_type": "code",
   "execution_count": null,
   "id": "excellent-dietary",
   "metadata": {},
   "outputs": [],
   "source": [
    "def test_"
   ]
  },
  {
   "cell_type": "markdown",
   "id": "5d93dd68-9a70-4500-a0ac-984fed1ccfa7",
   "metadata": {},
   "source": [
    "### Profiling the kernel"
   ]
  },
  {
   "cell_type": "code",
   "execution_count": 5,
   "id": "38c1d33c-4c12-47cb-b270-fa375f2968e4",
   "metadata": {},
   "outputs": [
    {
     "name": "stdout",
     "output_type": "stream",
     "text": [
      "Overwriting 1.4-convolve-1d.py\n"
     ]
    }
   ],
   "source": [
    "%%writefile 1.4-convolve-1d.py\n",
    "\n",
    "import math\n",
    "import numpy as np\n",
    "from numba import cuda\n",
    "\n",
    "# CUDA kernel.\n",
    "\n",
    "@cuda.jit\n",
    "def convolve_kernel(y, x, coeffs):\n",
    "    i = cuda.blockIdx.x*cuda.blockDim.x + cuda.threadIdx.x\n",
    "    if i < y.shape[0]:\n",
    "        value = 0.0    \n",
    "        n = min(coeffs.shape[0], i+1)\n",
    "        for j in range(n):\n",
    "            value += x[i-j]*coeffs[j]\n",
    "        y[i] = value\n",
    "        \n",
    "        \n",
    "def convolve(y, x, h):\n",
    "    block_size = (256, )\n",
    "    grid_size = (math.ceil(len(y)/block_size[0]), )\n",
    "    convolve_kernel[grid_size, block_size](y, x, h)\n",
    "        \n",
    "# Test data.\n",
    "n = 100000\n",
    "x_host = np.random.rand(n).astype(np.float32)\n",
    "h_host = np.random.rand(64).astype(np.float32)\n",
    "y_gpu = np.zeros(n, dtype=np.float32)\n",
    "\n",
    "x_gpu = cuda.to_device(x_host)\n",
    "h_gpu = cuda.to_device(h_host)\n",
    "\n",
    "for i in range(100):\n",
    "    convolve(y_gpu, x_gpu, h_gpu)"
   ]
  },
  {
   "cell_type": "code",
   "execution_count": 6,
   "id": "efa67c79-58b4-4a52-b8f9-0ab4423f71ef",
   "metadata": {},
   "outputs": [
    {
     "name": "stdout",
     "output_type": "stream",
     "text": [
      "Warning: LBR backtrace method is not supported on this platform. DWARF backtrace method will be used.\n",
      "Collecting data...\n",
      "Processing events...\n",
      "Saving temporary \"/tmp/nsys-report-863a-d311-77c3-3b2e.qdstrm\" file to disk...\n",
      "Creating final output files...\n",
      "\n",
      "Processing [==============================================================100%]\n",
      "Saved report file to \"/tmp/nsys-report-863a-d311-77c3-3b2e.qdrep\"\n",
      "Exporting 1245 events: [==================================================100%]\n",
      "\n",
      "Exported successfully to\n",
      "/tmp/nsys-report-863a-d311-77c3-3b2e.sqlite\n",
      "\n",
      "Generating CUDA API Statistics...\n",
      "CUDA API Statistics (nanoseconds)\n",
      "\n",
      "Time(%)      Total Time       Calls         Average         Minimum         Maximum  Name                                                                            \n",
      "-------  --------------  ----------  --------------  --------------  --------------  --------------------------------------------------------------------------------\n",
      "   88.9        82247572         100        822475.7          189232         1085006  cuMemcpyDtoH_v2                                                                 \n",
      "    5.3         4892326         102         47964.0            7038           80255  cuMemcpyHtoD_v2                                                                 \n",
      "    2.7         2469603         102         24211.8            4883          205306  cuMemAlloc_v2                                                                   \n",
      "    1.7         1549559          99         15652.1            2175           95798  cuMemFree_v2                                                                    \n",
      "    1.1         1012703         100         10127.0            8091           26489  cuLaunchKernel                                                                  \n",
      "    0.1          135243           1        135243.0          135243          135243  cuModuleLoadDataEx                                                              \n",
      "    0.1           86888           1         86888.0           86888           86888  cuLinkComplete                                                                  \n",
      "    0.1           52116           1         52116.0           52116           52116  cuLinkCreate_v2                                                                 \n",
      "    0.0           20294           1         20294.0           20294           20294  cuMemGetInfo_v2                                                                 \n",
      "    0.0            2606           1          2606.0            2606            2606  cuInit                                                                          \n",
      "    0.0            1186           1          1186.0            1186            1186  cuLinkDestroy                                                                   \n",
      "\n",
      "\n",
      "\n",
      "\n",
      "Generating CUDA Kernel Statistics...\n",
      "CUDA Kernel Statistics (nanoseconds)\n",
      "\n",
      "Time(%)      Total Time   Instances         Average         Minimum         Maximum  Name                                                                                                                                                                                                                                                                                                                                         \n",
      "-------  --------------  ----------  --------------  --------------  --------------  --------------------------------------------------------------------------------------------------------------------                                                                                                                                                                                                                         \n",
      "  100.0        64239399         100        642394.0          638634          885262  cudapy::__main__::convolve_kernel$241(Array<float, 1, C, mutable, aligned>, Array<float, 1, C, mutable, aligned>, Array<float, 1, C, mutable, aligned>)                                                                                                                                                                                      \n",
      "\n",
      "\n",
      "\n",
      "Generating CUDA Memory Operation Statistics...\n",
      "CUDA Memory Operation Statistics (nanoseconds)\n",
      "\n",
      "Time(%)      Total Time  Operations         Average         Minimum         Maximum  Name                                                                            \n",
      "-------  --------------  ----------  --------------  --------------  --------------  --------------------------------------------------------------------------------\n",
      "   52.0        13283336         102        130228.8             896          146851  [CUDA memcpy HtoD]                                                              \n",
      "   48.0        12241750         100        122417.5          121249          130274  [CUDA memcpy DtoH]                                                              \n",
      "\n",
      "\n",
      "CUDA Memory Operation Statistics (KiB)\n",
      "\n",
      "              Total      Operations              Average            Minimum              Maximum  Name                                                                            \n",
      "-------------------  --------------  -------------------  -----------------  -------------------  --------------------------------------------------------------------------------\n",
      "          39453.375             102              386.798              0.250              390.625  [CUDA memcpy HtoD]                                                              \n",
      "          39062.500             100              390.625            390.625              390.625  [CUDA memcpy DtoH]                                                              \n",
      "\n",
      "\n",
      "\n",
      "Report file moved to \"/home/pjarosik/src/us4useu/ius-2021-gpu-short-course/exercises/1.4-convolve-1d.qdrep\"\n",
      "Report file moved to \"/home/pjarosik/src/us4useu/ius-2021-gpu-short-course/exercises/1.4-convolve-1d.sqlite\"\n"
     ]
    }
   ],
   "source": [
    "! nsys profile --stats=true --export none --trace cuda --output 1.4-convolve-1d python 1.4-convolve-1d.py"
   ]
  }
 ],
 "metadata": {
  "kernelspec": {
   "display_name": "Python 3",
   "language": "python",
   "name": "python3"
  },
  "language_info": {
   "codemirror_mode": {
    "name": "ipython",
    "version": 3
   },
   "file_extension": ".py",
   "mimetype": "text/x-python",
   "name": "python",
   "nbconvert_exporter": "python",
   "pygments_lexer": "ipython3",
   "version": "3.8.8"
  }
 },
 "nbformat": 4,
 "nbformat_minor": 5
}
