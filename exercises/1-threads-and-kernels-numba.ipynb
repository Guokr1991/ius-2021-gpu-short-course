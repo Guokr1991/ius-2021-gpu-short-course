{
 "cells": [
  {
   "cell_type": "markdown",
   "id": "irish-thomson",
   "metadata": {},
   "source": [
    "# 1. CUDA basics: threads and kernels."
   ]
  },
  {
   "cell_type": "code",
   "execution_count": 1,
   "id": "invalid-cricket",
   "metadata": {},
   "outputs": [],
   "source": [
    "from numba import cuda\n",
    "import numpy as np\n",
    "import cupy as cp\n",
    "import math"
   ]
  },
  {
   "cell_type": "code",
   "execution_count": 2,
   "id": "interested-transportation",
   "metadata": {},
   "outputs": [],
   "source": [
    "a = cp.random.randn(192, 4096, 64).astype(cp.float32)\n",
    "a_small = cp.array([\n",
    "    [[1,  2,  3],\n",
    "     [4,  5,  6]],\n",
    "    [[7,  8,  9],\n",
    "     [10, 11, 12]]\n",
    "], dtype=cp.float32)"
   ]
  },
  {
   "cell_type": "code",
   "execution_count": 15,
   "id": "pointed-horse",
   "metadata": {},
   "outputs": [],
   "source": [
    "a_texture = cp.cuda.texture.CUDAarray(\n",
    "    cp.cuda.texture.ChannelFormatDescriptor(32, 0, 0, 0, cp.cuda.runtime.cudaChannelFormatKindFloat),\n",
    "    3, 2, 2, 1)\n"
   ]
  },
  {
   "cell_type": "markdown",
   "id": "informal-earth",
   "metadata": {},
   "source": [
    "## 1.1. Running CUDA kernel with numba."
   ]
  },
  {
   "cell_type": "markdown",
   "id": "hollow-consciousness",
   "metadata": {},
   "source": [
    "### How to implement the kernel"
   ]
  },
  {
   "cell_type": "code",
   "execution_count": 3,
   "id": "complicated-electron",
   "metadata": {},
   "outputs": [],
   "source": [
    "@cuda.jit\n",
    "def gpu_sum_rows(result, array):\n",
    "    x, y = cuda.grid(2)\n",
    "    if x >= array.shape[0] or y >= array.shape[1]:\n",
    "        return\n",
    "    r = 0\n",
    "    for i in range(array.shape[2]):\n",
    "        r += array[x, y, i]\n",
    "    result[x, y] = r"
   ]
  },
  {
   "cell_type": "markdown",
   "id": "dense-engagement",
   "metadata": {},
   "source": [
    "### How to run the kernel"
   ]
  },
  {
   "cell_type": "code",
   "execution_count": 10,
   "id": "optimum-hampshire",
   "metadata": {},
   "outputs": [
    {
     "name": "stdout",
     "output_type": "stream",
     "text": [
      "Result for small array:\n",
      "[[ 6. 15.]\n",
      " [24. 33.]]\n"
     ]
    }
   ],
   "source": [
    "def sum_rows(array):\n",
    "    block_size = (16, 16)\n",
    "    grid_size_x = math.ceil(array.shape[0]/block_size[0])\n",
    "    grid_size_y = math.ceil(array.shape[1]/block_size[1])\n",
    "    grid_size = (grid_size_x, grid_size_y)\n",
    "    output_array = cp.zeros(array.shape[:2], dtype=np.float32)\n",
    "    gpu_sum_rows[grid_size, block_size](output_array, array)\n",
    "    return output_array\n",
    "    \n",
    "result_small = sum_rows(a_small)\n",
    "np.testing.assert_allclose(result_small.get(), np.array([[6, 15], [24, 33]], dtype=np.float32))\n",
    "print(\"Result for small array:\")\n",
    "print(result_small)\n",
    "\n",
    "result = sum_rows(a)\n",
    "np.testing.assert_allclose(result.get(), cp.sum(a, axis=-1).get(), atol=1e-5)"
   ]
  },
  {
   "cell_type": "markdown",
   "id": "amino-criticism",
   "metadata": {},
   "source": [
    "## 1.2. Passing data to/from CUDA kernel."
   ]
  },
  {
   "cell_type": "code",
   "execution_count": null,
   "id": "aboriginal-parking",
   "metadata": {},
   "outputs": [],
   "source": []
  }
 ],
 "metadata": {
  "kernelspec": {
   "display_name": "Python 3",
   "language": "python",
   "name": "python3"
  },
  "language_info": {
   "codemirror_mode": {
    "name": "ipython",
    "version": 3
   },
   "file_extension": ".py",
   "mimetype": "text/x-python",
   "name": "python",
   "nbconvert_exporter": "python",
   "pygments_lexer": "ipython3",
   "version": "3.8.8"
  }
 },
 "nbformat": 4,
 "nbformat_minor": 5
}
