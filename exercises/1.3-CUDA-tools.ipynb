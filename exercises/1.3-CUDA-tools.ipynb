{
 "cells": [
  {
   "cell_type": "markdown",
   "id": "455eed8a",
   "metadata": {},
   "source": [
    "# 1.3. Numba and CUDA Toolkit"
   ]
  },
  {
   "cell_type": "markdown",
   "id": "167694be",
   "metadata": {},
   "source": [
    "## Debugging with NUMBA debugger"
   ]
  },
  {
   "cell_type": "code",
   "execution_count": null,
   "id": "9cca5d13",
   "metadata": {},
   "outputs": [],
   "source": []
  },
  {
   "cell_type": "markdown",
   "id": "8d06fd65",
   "metadata": {},
   "source": [
    "## Debugging with cuda-memcheck"
   ]
  },
  {
   "cell_type": "code",
   "execution_count": null,
   "id": "cd70937e",
   "metadata": {},
   "outputs": [],
   "source": []
  },
  {
   "cell_type": "markdown",
   "id": "4f9b4eec-008c-499d-a16c-9e3c9a2d5d55",
   "metadata": {},
   "source": [
    "## Measuring Python code execution time"
   ]
  },
  {
   "cell_type": "code",
   "execution_count": null,
   "id": "b6952925-0fe2-4c1a-ab87-22b7a21f836b",
   "metadata": {},
   "outputs": [],
   "source": []
  },
  {
   "cell_type": "markdown",
   "id": "a9f42bb3",
   "metadata": {},
   "source": [
    "## Profiling kernels with nvprof / nsys in command line"
   ]
  },
  {
   "cell_type": "code",
   "execution_count": 1,
   "id": "ff075d90",
   "metadata": {},
   "outputs": [
    {
     "name": "stdout",
     "output_type": "stream",
     "text": [
      "Overwriting 1.3.x-add-vectors.py\n"
     ]
    }
   ],
   "source": [
    "%%writefile 1.3.x-add-vectors.py\n",
    "\n",
    "import math\n",
    "import numpy as np\n",
    "from numba import cuda\n",
    "\n",
    "# CUDA kernel.\n",
    "\n",
    "@cuda.jit\n",
    "def add(c, a, b):\n",
    "    i = cuda.blockIdx.x*cuda.blockDim.x + cuda.threadIdx.x\n",
    "    if i < c.shape[0]:\n",
    "        c[i] = a[i] + b[i]\n",
    "\n",
    "# Test data.\n",
    "n = 100000    \n",
    "a = np.random.rand(n).astype(np.float32)\n",
    "b = np.random.rand(n).astype(np.float32)\n",
    "c = np.zeros(n)\n",
    "\n",
    "block_size = (16, )\n",
    "grid_size = (math.ceil(n/block_size[0]), )\n",
    "\n",
    "for i in range(100):\n",
    "    add[grid_size, block_size](c, a, b)\n",
    "    np.testing.assert_almost_equal(a+b, c)"
   ]
  },
  {
   "cell_type": "code",
   "execution_count": 3,
   "id": "ea57b297",
   "metadata": {},
   "outputs": [
    {
     "name": "stdout",
     "output_type": "stream",
     "text": [
      "Warning: LBR backtrace method is not supported on this platform. DWARF backtrace method will be used.\n",
      "Collecting data...\n",
      "Processing events...\n",
      "Capturing symbol files...\n",
      "Saving temporary \"/tmp/nsys-report-4423-0565-1255-752d.qdstrm\" file to disk...\n",
      "Creating final output files...\n",
      "\n",
      "Processing [==============================================================100%]\n",
      "Saved report file to \"/tmp/nsys-report-4423-0565-1255-752d.qdrep\"\n",
      "Exporting 5071 events: [==================================================100%]\n",
      "\n",
      "Exported successfully to\n",
      "/tmp/nsys-report-4423-0565-1255-752d.sqlite\n",
      "\n",
      "Generating CUDA API Statistics...\n",
      "CUDA API Statistics (nanoseconds)\n",
      "\n",
      "Time(%)      Total Time       Calls         Average         Minimum         Maximum  Name                                                                            \n",
      "-------  --------------  ----------  --------------  --------------  --------------  --------------------------------------------------------------------------------\n",
      "   54.2        31536014         300        105120.0           70328          328218  cuMemcpyDtoH_v2                                                                 \n",
      "   17.4        10118072         300         33726.9           22459          104826  cuMemcpyHtoD_v2                                                                 \n",
      "   14.5         8451556         300         28171.9            4418          514198  cuMemAlloc_v2                                                                   \n",
      "   11.3         6588886         297         22184.8            1870          320626  cuMemFree_v2                                                                    \n",
      "    1.8         1053315         100         10533.1            8910           26090  cuLaunchKernel                                                                  \n",
      "    0.4          249297           1        249297.0          249297          249297  cuModuleLoadDataEx                                                              \n",
      "    0.1           86851           1         86851.0           86851           86851  cuLinkComplete                                                                  \n",
      "    0.1           35252           1         35252.0           35252           35252  cuLinkCreate_v2                                                                 \n",
      "    0.0           23746           1         23746.0           23746           23746  cuMemGetInfo_v2                                                                 \n",
      "    0.0            1736           1          1736.0            1736            1736  cuLinkDestroy                                                                   \n",
      "    0.0             979           1           979.0             979             979  cuInit                                                                          \n",
      "\n",
      "\n",
      "\n",
      "\n",
      "Generating CUDA Kernel Statistics...\n",
      "CUDA Kernel Statistics (nanoseconds)\n",
      "\n",
      "Time(%)      Total Time   Instances         Average         Minimum         Maximum  Name                                                                                                                                                                                                                                                                                                                                         \n",
      "-------  --------------  ----------  --------------  --------------  --------------  --------------------------------------------------------------------------------------------------------------------                                                                                                                                                                                                                         \n",
      "  100.0         1094422         100         10944.2           10592           12928  cudapy::__main__::add$241(Array<double, 1, C, mutable, aligned>, Array<float, 1, C, mutable, aligned>, Array<float, 1, C, mutable, aligned>)                                                                                                                                                                                                 \n",
      "\n",
      "\n",
      "\n",
      "Generating CUDA Memory Operation Statistics...\n",
      "CUDA Memory Operation Statistics (nanoseconds)\n",
      "\n",
      "Time(%)      Total Time  Operations         Average         Minimum         Maximum  Name                                                                            \n",
      "-------  --------------  ----------  --------------  --------------  --------------  --------------------------------------------------------------------------------\n",
      "   50.3        13456672         300         44855.6           32416           95362  [CUDA memcpy HtoD]                                                              \n",
      "   49.7        13275781         300         44252.6           31936          104322  [CUDA memcpy DtoH]                                                              \n",
      "\n",
      "\n",
      "CUDA Memory Operation Statistics (KiB)\n",
      "\n",
      "              Total      Operations              Average            Minimum              Maximum  Name                                                                            \n",
      "-------------------  --------------  -------------------  -----------------  -------------------  --------------------------------------------------------------------------------\n",
      "         156250.000             300              520.833            390.625              781.250  [CUDA memcpy HtoD]                                                              \n",
      "         156250.000             300              520.833            390.625              781.250  [CUDA memcpy DtoH]                                                              \n",
      "\n",
      "\n",
      "\n",
      "\n",
      "Generating Operating System Runtime API Statistics...\n",
      "Operating System Runtime API Statistics (nanoseconds)\n",
      "\n",
      "Time(%)      Total Time       Calls         Average         Minimum         Maximum  Name                                                                            \n",
      "-------  --------------  ----------  --------------  --------------  --------------  --------------------------------------------------------------------------------\n",
      "   47.7       557783215          15      37185547.7           15121       100089880  sem_timedwait                                                                   \n",
      "   42.8       501159106          15      33410607.1           19246       100160384  poll                                                                            \n",
      "    5.0        58547909         933         62752.3            1111         8530205  ioctl                                                                           \n",
      "    2.2        25579572         709         36078.4            1001        21350074  read                                                                            \n",
      "    1.6        18290835           6       3048472.5            3160        18268139  open                                                                            \n",
      "    0.3         3686752         774          4763.2            2886           29532  open64                                                                          \n",
      "    0.2         2136319          75         28484.3            1110          830430  mmap                                                                            \n",
      "    0.1          792463         100          7924.6            6176           40386  backtrace                                                                       \n",
      "    0.0          541452           1        541452.0          541452          541452  fork                                                                            \n",
      "    0.0          491246         101          4863.8            1043           33178  munmap                                                                          \n",
      "    0.0          340450         171          1990.9            1010            4571  mmap64                                                                          \n",
      "    0.0          132267           5         26453.4           20928           35304  pthread_create                                                                  \n",
      "    0.0           98744           3         32914.7           24489           45223  fgets                                                                           \n",
      "    0.0           89640          23          3897.4            1045           12455  fopen                                                                           \n",
      "    0.0           56195           7          8027.9            1027           13736  pthread_cond_signal                                                             \n",
      "    0.0           27277          10          2727.7            1652            3800  write                                                                           \n",
      "    0.0           23800           3          7933.3            5547           11836  mprotect                                                                        \n",
      "    0.0           17941          11          1631.0            1037            2552  fclose                                                                          \n",
      "    0.0           16250           2          8125.0            2851           13399  fcntl                                                                           \n",
      "    0.0           13125           1         13125.0           13125           13125  waitpid                                                                         \n",
      "    0.0            9938           4          2484.5            1302            3593  fopen64                                                                         \n",
      "    0.0            8777           2          4388.5            3502            5275  socket                                                                          \n",
      "    0.0            8589           3          2863.0            1646            3692  pipe2                                                                           \n",
      "    0.0            8003           4          2000.8            1251            2421  fread                                                                           \n",
      "    0.0            5233           1          5233.0            5233            5233  connect                                                                         \n",
      "    0.0            1529           1          1529.0            1529            1529  bind                                                                            \n",
      "    0.0            1126           1          1126.0            1126            1126  fputs_unlocked                                                                  \n",
      "    0.0            1105           1          1105.0            1105            1105  sigaction                                                                       \n",
      "\n",
      "\n",
      "\n",
      "\n",
      "Generating NVTX Push-Pop Range Statistics...\n",
      "NVTX Push-Pop Range Statistics (nanoseconds)\n",
      "\n",
      "\n",
      "\n",
      "\n",
      "Report file moved to \"/rapids/notebooks/src/ius-2021-gpu-short-course/exercises/report7.qdrep\"\n",
      "Report file moved to \"/rapids/notebooks/src/ius-2021-gpu-short-course/exercises/report7.sqlite\"\n"
     ]
    }
   ],
   "source": [
    "! nsys profile --stats=true python 1.3.x-add-vectors.py"
   ]
  },
  {
   "cell_type": "markdown",
   "id": "3f870a4f",
   "metadata": {},
   "source": [
    "##"
   ]
  }
 ],
 "metadata": {
  "kernelspec": {
   "display_name": "Python 3",
   "language": "python",
   "name": "python3"
  },
  "language_info": {
   "codemirror_mode": {
    "name": "ipython",
    "version": 3
   },
   "file_extension": ".py",
   "mimetype": "text/x-python",
   "name": "python",
   "nbconvert_exporter": "python",
   "pygments_lexer": "ipython3",
   "version": "3.7.10"
  }
 },
 "nbformat": 4,
 "nbformat_minor": 5
}
