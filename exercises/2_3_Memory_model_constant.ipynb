{
 "cells": [
  {
   "cell_type": "code",
   "execution_count": 1,
   "id": "d88f2957-4512-49ef-8824-f2ec54be3af5",
   "metadata": {},
   "outputs": [
    {
     "name": "stdout",
     "output_type": "stream",
     "text": [
      "Overwriting 2.3-convolve-1d-shared-constant-memory.py\n"
     ]
    }
   ],
   "source": [
    "%%writefile 2.3-convolve-1d-shared-constant-memory.py\n",
    "\n",
    "import time\n",
    "import math\n",
    "import numpy as np\n",
    "from numba import cuda, float32\n",
    "\n",
    "thread_block_size_deafult = 256\n",
    "\n",
    "h_host = np.random.rand(256).astype(np.float32)\n",
    "\n",
    "\n",
    "@cuda.jit\n",
    "def convolve_kernel(y, x):\n",
    "    i = cuda.blockIdx.x*cuda.blockDim.x + cuda.threadIdx.x\n",
    "    \n",
    "    if i >= y.shape[0]:\n",
    "        return\n",
    "    \n",
    "    # Constant memory.\n",
    "    h_gpu_const = cuda.const.array_like(h_host)\n",
    "    filter_size = len(h_gpu_const)\n",
    "    \n",
    "    # Shared memory.\n",
    "    x_sm = cuda.shared.array(shape=0, dtype=float32)\n",
    "    sm_size = cuda.blockDim.x+filter_size-1\n",
    "    \n",
    "    # Copy a portion of global memory data to shared memory.\n",
    "    k = i - (filter_size-1) # The current position in the global memory.\n",
    "    k_sm = cuda.threadIdx.x # The current position in the shared memory.  \n",
    "    while k_sm < sm_size:\n",
    "        if k < 0:\n",
    "            x_sm[k_sm] = float32(0.0)\n",
    "        else:\n",
    "            x_sm[k_sm] = x[k]\n",
    "        k_sm += cuda.blockDim.x\n",
    "        k    += cuda.blockDim.x\n",
    "\n",
    "    cuda.syncthreads()\n",
    "    \n",
    "    k_sm = cuda.threadIdx.x+filter_size-1\n",
    "    value = float32(0.0)\n",
    "    for j in range(filter_size):\n",
    "        value += x_sm[k_sm-j]*h_gpu_const[j]\n",
    "    y[i] = value\n",
    "\n",
    "    \n",
    "def convolve(y, x):\n",
    "    thread_block_size = min(thread_block_size_deafult, len(y))\n",
    "    block_size = (thread_block_size, )\n",
    "    grid_size = (math.ceil(len(y)/block_size[0]), )\n",
    "    filter_size = len(h_host)\n",
    "    shared_memory_size = thread_block_size+filter_size-1\n",
    "    shared_memory_size_bytes = shared_memory_size*y.dtype.itemsize\n",
    "    convolve_kernel[grid_size, block_size, cuda.default_stream(), shared_memory_size_bytes](y, x)  \n",
    "    \n",
    "# Test data.\n",
    "n = 1024*64*16*16\n",
    "\n",
    "for i in range(20):\n",
    "    x_host = np.random.rand(n).astype(np.float32)\n",
    "    y_gpu = cuda.device_array(shape=(n,), dtype=np.float32)\n",
    "    start = time.time()\n",
    "    x_gpu = cuda.to_device(x_host)\n",
    "    convolve(y_gpu, x_gpu)\n",
    "    y_host = y_gpu.copy_to_host()\n",
    "    end = time.time()\n",
    "    print(f\"Execution time: {end-start}\")"
   ]
  },
  {
   "cell_type": "code",
   "execution_count": 2,
   "id": "17d05a87-2e39-4b51-bba5-e747e77ff3dc",
   "metadata": {},
   "outputs": [
    {
     "name": "stdout",
     "output_type": "stream",
     "text": [
      "==39938== NVPROF is profiling process 39938, command: python 2.3-convolve-1d-shared-constant-memory.py\n",
      "Execution time: 0.5726428031921387\n",
      "Execution time: 0.2206273078918457\n",
      "Execution time: 0.21988773345947266\n",
      "Execution time: 0.2207186222076416\n",
      "Execution time: 0.22198104858398438\n",
      "Execution time: 0.2215731143951416\n",
      "Execution time: 0.22063207626342773\n",
      "Execution time: 0.23209428787231445\n",
      "Execution time: 0.2208080291748047\n",
      "Execution time: 0.21992778778076172\n",
      "Execution time: 0.22011971473693848\n",
      "Execution time: 0.22240877151489258\n",
      "Execution time: 0.22060918807983398\n",
      "Execution time: 0.22048616409301758\n",
      "Execution time: 0.23507213592529297\n",
      "Execution time: 0.25647950172424316\n",
      "Execution time: 0.2404470443725586\n",
      "Execution time: 0.22742605209350586\n",
      "Execution time: 0.22945713996887207\n",
      "Execution time: 0.3387610912322998\n",
      "==39938== Profiling application: python 2.3-convolve-1d-shared-constant-memory.py\n",
      "==39938== Profiling result:\n",
      "            Type  Time(%)      Time     Calls       Avg       Min       Max  Name\n",
      " GPU activities:   79.35%  3.63422s        20  181.71ms  172.58ms  276.64ms  cudapy::__main__::convolve_kernel$241(Array<float, int=1, C, mutable, aligned>, Array<float, int=1, C, mutable, aligned>)\n",
      "                   10.65%  487.77ms        20  24.388ms  24.189ms  24.506ms  [CUDA memcpy HtoD]\n",
      "                   10.00%  458.23ms        20  22.912ms  21.901ms  36.208ms  [CUDA memcpy DtoH]\n",
      "      API calls:   85.24%  4.09904s        20  204.95ms  194.75ms  313.42ms  cuMemcpyDtoH\n",
      "                    9.99%  480.59ms        20  24.029ms  23.814ms  24.150ms  cuMemcpyHtoD\n",
      "                    2.49%  119.59ms         1  119.59ms  119.59ms  119.59ms  cuDevicePrimaryCtxRetain\n",
      "                    1.17%  56.288ms        35  1.6082ms  126.86us  1.8462ms  cuMemFree\n",
      "                    0.84%  40.347ms         1  40.347ms  40.347ms  40.347ms  cuLinkAddData\n",
      "                    0.24%  11.545ms        40  288.64us  118.58us  1.6413ms  cuMemAlloc\n",
      "                    0.01%  479.76us        20  23.988us  16.814us  50.221us  cuLaunchKernel\n",
      "                    0.00%  170.12us         1  170.12us  170.12us  170.12us  cuModuleLoadDataEx\n",
      "                    0.00%  117.29us       101  1.1610us     108ns  51.115us  cuDeviceGetAttribute\n",
      "                    0.00%  87.425us         1  87.425us  87.425us  87.425us  cuLinkComplete\n",
      "                    0.00%  85.336us       123     693ns     221ns  2.1430us  cuCtxGetCurrent\n",
      "                    0.00%  59.032us         2  29.516us  26.766us  32.266us  cuDeviceGetName\n",
      "                    0.00%  51.068us       121     422ns     176ns  6.0200us  cuCtxGetDevice\n",
      "                    0.00%  50.908us         1  50.908us  50.908us  50.908us  cuDeviceTotalMem\n",
      "                    0.00%  43.856us         1  43.856us  43.856us  43.856us  cuLinkCreate\n",
      "                    0.00%  19.115us         1  19.115us  19.115us  19.115us  cuMemGetInfo\n",
      "                    0.00%  11.201us         1  11.201us  11.201us  11.201us  cuDeviceGetPCIBusId\n",
      "                    0.00%  2.1260us         4     531ns     226ns  1.2400us  cuDeviceGetCount\n",
      "                    0.00%  1.6990us         3     566ns     379ns     760ns  cuDeviceGet\n",
      "                    0.00%  1.5730us         5     314ns     142ns     691ns  cuFuncGetAttribute\n",
      "                    0.00%  1.4880us         1  1.4880us  1.4880us  1.4880us  cuInit\n",
      "                    0.00%  1.2960us         1  1.2960us  1.2960us  1.2960us  cuLinkDestroy\n",
      "                    0.00%  1.2270us         1  1.2270us  1.2270us  1.2270us  cuModuleGetFunction\n",
      "                    0.00%  1.0130us         1  1.0130us  1.0130us  1.0130us  cuCtxPushCurrent\n",
      "                    0.00%     816ns         1     816ns     816ns     816ns  cuDriverGetVersion\n",
      "                    0.00%     504ns         1     504ns     504ns     504ns  cuDeviceComputeCapability\n",
      "                    0.00%     464ns         1     464ns     464ns     464ns  cudaRuntimeGetVersion\n",
      "                    0.00%     223ns         1     223ns     223ns     223ns  cuDeviceGetUuid\n"
     ]
    }
   ],
   "source": [
    "! nvprof python 2.3-convolve-1d-shared-constant-memory.py"
   ]
  },
  {
   "cell_type": "code",
   "execution_count": 3,
   "id": "79b788c5-f85e-4bdd-b25a-d070afd0221c",
   "metadata": {},
   "outputs": [
    {
     "name": "stdout",
     "output_type": "stream",
     "text": [
      "==PROF== Connected to process 39975 (/home/pjarosik/bin/miniconda3/envs/ius2021sc/bin/python3.8)\n",
      "==ERROR== Error: ERR_NVGPUCTRPERM - The user does not have permission to access NVIDIA GPU Performance Counters on the target device 0. For instructions on enabling permissions and to get more information see https://developer.nvidia.com/ERR_NVGPUCTRPERM\n",
      "==PROF== Disconnected from process 39975\n",
      "==ERROR== An error occurred while trying to profile.\n",
      "==WARNING== No kernels were profiled.\n",
      "==WARNING== Profiling kernels launched by child processes requires the --target-processes all option.\n"
     ]
    }
   ],
   "source": [
    "! ncu python 2.2-convolve-1d-shared-memory.py"
   ]
  }
 ],
 "metadata": {
  "kernelspec": {
   "display_name": "Python 3",
   "language": "python",
   "name": "python3"
  },
  "language_info": {
   "codemirror_mode": {
    "name": "ipython",
    "version": 3
   },
   "file_extension": ".py",
   "mimetype": "text/x-python",
   "name": "python",
   "nbconvert_exporter": "python",
   "pygments_lexer": "ipython3",
   "version": "3.8.8"
  }
 },
 "nbformat": 4,
 "nbformat_minor": 5
}
