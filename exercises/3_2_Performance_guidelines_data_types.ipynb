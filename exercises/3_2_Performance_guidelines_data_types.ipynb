{
 "cells": [
  {
   "cell_type": "markdown",
   "id": "damaged-england",
   "metadata": {},
   "source": [
    "# 3.2. Performance guidelines: data types"
   ]
  },
  {
   "cell_type": "code",
   "execution_count": 1,
   "id": "invisible-planet",
   "metadata": {},
   "outputs": [],
   "source": [
    "import math\n",
    "import numpy as np\n",
    "from numba import cuda, float32, int32\n",
    "import cupy as cp"
   ]
  },
  {
   "cell_type": "code",
   "execution_count": 2,
   "id": "settled-satin",
   "metadata": {},
   "outputs": [
    {
     "name": "stdout",
     "output_type": "stream",
     "text": [
      "Overwriting 3_2_convolve_float32.py\n"
     ]
    }
   ],
   "source": [
    "%%writefile 3_2_convolve_float32.py\n",
    "\n",
    "import math\n",
    "import numpy as np\n",
    "from numba import cuda, float32, int32\n",
    "from tests import benchmark_convolve\n",
    "\n",
    "@cuda.jit\n",
    "def convolve_gpu_kernel(y, x, h):\n",
    "    i = cuda.grid(1)\n",
    "    M = len(x)\n",
    "    N = len(h)\n",
    "    offset = int32(math.ceil(N/2)-1)\n",
    "    \n",
    "    if i >= len(y):\n",
    "        return\n",
    "    \n",
    "    value = float32(0.0)\n",
    "    \n",
    "    for j in range(N):\n",
    "        k = i + offset - j\n",
    "        if k >= 0 and k < M:\n",
    "            value += x[k]*h[j]\n",
    "    \n",
    "    y[i] = value\n",
    "    \n",
    "def convolve_gpu(y, x, h):\n",
    "    if y is None:\n",
    "        y = cuda.device_array(x.shape, dtype=x.dtype)\n",
    "    block_size = (256, )\n",
    "    grid_size = (math.ceil(len(y)/block_size[0]), )\n",
    "    convolve_gpu_kernel[grid_size, block_size](y, x, h)\n",
    "    return y.copy_to_host()\n",
    "\n",
    "benchmark_convolve(lambda x, h: convolve_gpu(None, x, h))"
   ]
  },
  {
   "cell_type": "code",
   "execution_count": 3,
   "id": "traditional-shoot",
   "metadata": {},
   "outputs": [
    {
     "name": "stdout",
     "output_type": "stream",
     "text": [
      "==10319== NVPROF is profiling process 10319, command: python 3_2_convolve_float32.py\n",
      "Benchmark result: \n",
      "Average processing time: 0.0310 seconds (+/- 0.0530), median: 0.0230\n",
      "==10319== Profiling application: python 3_2_convolve_float32.py\n",
      "==10319== Profiling result:\n",
      "            Type  Time(%)      Time     Calls       Avg       Min       Max  Name\n",
      " GPU activities:   80.99%  1.89548s       100  18.955ms  17.090ms  29.145ms  cudapy::__main__::convolve_gpu_kernel$241(Array<float, int=1, C, mutable, aligned>, Array<float, int=1, C, mutable, aligned>, Array<float, int=1, C, mutable, aligned>)\n",
      "                   12.28%  287.32ms       300  957.74us  1.1520us  3.0243ms  [CUDA memcpy DtoH]\n",
      "                    6.73%  157.48ms       200  787.39us     896ns  5.1937ms  [CUDA memcpy HtoD]\n",
      "No API activities were profiled.\n"
     ]
    }
   ],
   "source": [
    "! nvprof --trace gpu python 3_2_convolve_float32.py"
   ]
  },
  {
   "cell_type": "markdown",
   "id": "apparent-conversation",
   "metadata": {},
   "source": [
    "What if we will just change `value = float32(0.0)` to `value = 0.0`?"
   ]
  },
  {
   "cell_type": "code",
   "execution_count": 4,
   "id": "pressed-handling",
   "metadata": {},
   "outputs": [
    {
     "name": "stdout",
     "output_type": "stream",
     "text": [
      "Overwriting 3_2_convolve_value_float64.py\n"
     ]
    }
   ],
   "source": [
    "%%writefile 3_2_convolve_value_float64.py\n",
    "\n",
    "import math\n",
    "import numpy as np\n",
    "from numba import cuda, float32, int32\n",
    "from tests import benchmark_convolve\n",
    "\n",
    "@cuda.jit\n",
    "def convolve_gpu_kernel(y, x, h):\n",
    "    i = cuda.grid(1)\n",
    "    M = len(x)\n",
    "    N = len(h)\n",
    "    offset = int32(math.ceil(N/2)-1)\n",
    "    \n",
    "    if i >= len(y):\n",
    "        return\n",
    "    \n",
    "    value = 0.0\n",
    "    \n",
    "    for j in range(N):\n",
    "        k = i + offset - j\n",
    "        if k >= 0 and k < M:\n",
    "            value += x[k]*h[j]\n",
    "    \n",
    "    y[i] = value\n",
    "    \n",
    "def convolve_gpu(y, x, h):\n",
    "    if y is None:\n",
    "        y = cuda.device_array(x.shape, dtype=x.dtype)\n",
    "    block_size = (256, )\n",
    "    grid_size = (math.ceil(len(y)/block_size[0]), )\n",
    "    convolve_gpu_kernel[grid_size, block_size](y, x, h)\n",
    "    return y.copy_to_host()\n",
    "\n",
    "benchmark_convolve(lambda x, h: convolve_gpu(None, x, h))"
   ]
  },
  {
   "cell_type": "code",
   "execution_count": 5,
   "id": "ignored-providence",
   "metadata": {},
   "outputs": [
    {
     "name": "stdout",
     "output_type": "stream",
     "text": [
      "==10347== NVPROF is profiling process 10347, command: python 3_2_convolve_value_float64.py\n",
      "Benchmark result: \n",
      "Average processing time: 0.0393 seconds (+/- 0.0526), median: 0.0323\n",
      "==10347== Profiling application: python 3_2_convolve_value_float64.py\n",
      "==10347== Profiling result:\n",
      "            Type  Time(%)      Time     Calls       Avg       Min       Max  Name\n",
      " GPU activities:   86.83%  2.77792s       100  27.779ms  26.496ms  46.774ms  cudapy::__main__::convolve_gpu_kernel$241(Array<float, int=1, C, mutable, aligned>, Array<float, int=1, C, mutable, aligned>, Array<float, int=1, C, mutable, aligned>)\n",
      "                    8.48%  271.40ms       300  904.68us  1.1200us  2.6458ms  [CUDA memcpy DtoH]\n",
      "                    4.69%  150.03ms       200  750.16us     928ns  2.6278ms  [CUDA memcpy HtoD]\n",
      "No API activities were profiled.\n"
     ]
    }
   ],
   "source": [
    "! nvprof --trace gpu python 3_2_convolve_value_float64.py"
   ]
  },
  {
   "cell_type": "markdown",
   "id": "polyphonic-alexander",
   "metadata": {},
   "source": [
    "The processing increases, because 0.0 is a float64, and we are doing a conversions from float32 to float64 (here: `value += x[k]*h[j]`), then from float64 to float32 (here: `y[i] = value`)."
   ]
  },
  {
   "cell_type": "markdown",
   "id": "sharing-eight",
   "metadata": {},
   "source": [
    "Lets check what results we will get when will change all to computations to float64."
   ]
  },
  {
   "cell_type": "code",
   "execution_count": 7,
   "id": "infinite-harrison",
   "metadata": {},
   "outputs": [
    {
     "name": "stdout",
     "output_type": "stream",
     "text": [
      "Overwriting 3_2_convolve_float64.py\n"
     ]
    }
   ],
   "source": [
    "%%writefile 3_2_convolve_float64.py\n",
    "\n",
    "import math\n",
    "import numpy as np\n",
    "from numba import cuda, float64, int32\n",
    "from tests import benchmark_convolve\n",
    "\n",
    "@cuda.jit\n",
    "def convolve_gpu_kernel(y, x, h):\n",
    "    i = cuda.grid(1)\n",
    "    M = len(x)\n",
    "    N = len(h)\n",
    "    offset = int32(math.ceil(N/2)-1)\n",
    "    \n",
    "    if i >= len(y):\n",
    "        return\n",
    "    \n",
    "    value = float64(0.0)\n",
    "    \n",
    "    for j in range(N):\n",
    "        k = i + offset - j\n",
    "        if k >= 0 and k < M:\n",
    "            value += x[k]*h[j]\n",
    "    \n",
    "    y[i] = value\n",
    "    \n",
    "def convolve_gpu(y, x, h):\n",
    "    if y is None:\n",
    "        y = cuda.device_array(x.shape, dtype=x.dtype)\n",
    "    block_size = (256, )\n",
    "    grid_size = (math.ceil(len(y)/block_size[0]), )\n",
    "    convolve_gpu_kernel[grid_size, block_size](y, x, h)\n",
    "    return y.copy_to_host()\n",
    "\n",
    "benchmark_convolve(lambda x, h: convolve_gpu(None, x, h), dtype=np.float64)"
   ]
  },
  {
   "cell_type": "code",
   "execution_count": 8,
   "id": "judicial-mumbai",
   "metadata": {},
   "outputs": [
    {
     "name": "stdout",
     "output_type": "stream",
     "text": [
      "==10460== NVPROF is profiling process 10460, command: python 3_2_convolve_float64.py\n",
      "Benchmark result: \n",
      "Average processing time: 0.0347 seconds (+/- 0.0605), median: 0.0276\n",
      "==10460== Profiling application: python 3_2_convolve_float64.py\n",
      "==10460== Profiling result:\n",
      "            Type  Time(%)      Time     Calls       Avg       Min       Max  Name\n",
      " GPU activities:   68.33%  1.81831s       100  18.183ms  17.710ms  27.042ms  cudapy::__main__::convolve_gpu_kernel$241(Array<double, int=1, C, mutable, aligned>, Array<double, int=1, C, mutable, aligned>, Array<double, int=1, C, mutable, aligned>)\n",
      "                   20.28%  539.71ms       300  1.7990ms  1.1520us  5.1537ms  [CUDA memcpy DtoH]\n",
      "                   11.39%  303.18ms       200  1.5159ms     992ns  3.7395ms  [CUDA memcpy HtoD]\n",
      "No API activities were profiled.\n"
     ]
    }
   ],
   "source": [
    "! nvprof --trace gpu python 3_2_convolve_float64.py"
   ]
  }
 ],
 "metadata": {
  "kernelspec": {
   "display_name": "Python 3",
   "language": "python",
   "name": "python3"
  },
  "language_info": {
   "codemirror_mode": {
    "name": "ipython",
    "version": 3
   },
   "file_extension": ".py",
   "mimetype": "text/x-python",
   "name": "python",
   "nbconvert_exporter": "python",
   "pygments_lexer": "ipython3",
   "version": "3.8.8"
  }
 },
 "nbformat": 4,
 "nbformat_minor": 5
}
